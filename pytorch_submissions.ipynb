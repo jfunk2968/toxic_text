{
 "cells": [
  {
   "cell_type": "code",
   "execution_count": 1,
   "metadata": {},
   "outputs": [],
   "source": [
    "import pandas as pd"
   ]
  },
  {
   "cell_type": "code",
   "execution_count": 3,
   "metadata": {},
   "outputs": [],
   "source": [
    "s1 = pd.read_csv('pytorch/linear/toxic_linear_test_scores.csv')\n",
    "s2 = pd.read_csv('pytorch/linear/severe_toxic_linear_test_scores.csv')\n",
    "s3 = pd.read_csv('pytorch/linear/obscene_linear_test_scores.csv')\n",
    "s4 = pd.read_csv('pytorch/linear/insult_linear_test_scores.csv')\n",
    "s5 = pd.read_csv('pytorch/linear/threat_linear_test_scores.csv')\n",
    "s6 = pd.read_csv('pytorch/linear/identity_hate_linear_test_scores.csv')"
   ]
  },
  {
   "cell_type": "code",
   "execution_count": 4,
   "metadata": {},
   "outputs": [
    {
     "data": {
      "text/html": [
       "<div>\n",
       "<style scoped>\n",
       "    .dataframe tbody tr th:only-of-type {\n",
       "        vertical-align: middle;\n",
       "    }\n",
       "\n",
       "    .dataframe tbody tr th {\n",
       "        vertical-align: top;\n",
       "    }\n",
       "\n",
       "    .dataframe thead th {\n",
       "        text-align: right;\n",
       "    }\n",
       "</style>\n",
       "<table border=\"1\" class=\"dataframe\">\n",
       "  <thead>\n",
       "    <tr style=\"text-align: right;\">\n",
       "      <th></th>\n",
       "      <th>id</th>\n",
       "      <th>toxic</th>\n",
       "    </tr>\n",
       "  </thead>\n",
       "  <tbody>\n",
       "    <tr>\n",
       "      <th>0</th>\n",
       "      <td>00001cee341fdb12</td>\n",
       "      <td>0.999999</td>\n",
       "    </tr>\n",
       "    <tr>\n",
       "      <th>1</th>\n",
       "      <td>0000247867823ef7</td>\n",
       "      <td>0.197854</td>\n",
       "    </tr>\n",
       "    <tr>\n",
       "      <th>2</th>\n",
       "      <td>00013b17ad220c46</td>\n",
       "      <td>0.266559</td>\n",
       "    </tr>\n",
       "    <tr>\n",
       "      <th>3</th>\n",
       "      <td>00017563c3f7919a</td>\n",
       "      <td>0.001850</td>\n",
       "    </tr>\n",
       "    <tr>\n",
       "      <th>4</th>\n",
       "      <td>00017695ad8997eb</td>\n",
       "      <td>0.292616</td>\n",
       "    </tr>\n",
       "  </tbody>\n",
       "</table>\n",
       "</div>"
      ],
      "text/plain": [
       "                 id     toxic\n",
       "0  00001cee341fdb12  0.999999\n",
       "1  0000247867823ef7  0.197854\n",
       "2  00013b17ad220c46  0.266559\n",
       "3  00017563c3f7919a  0.001850\n",
       "4  00017695ad8997eb  0.292616"
      ]
     },
     "execution_count": 4,
     "metadata": {},
     "output_type": "execute_result"
    }
   ],
   "source": [
    "s1.head()"
   ]
  },
  {
   "cell_type": "code",
   "execution_count": 9,
   "metadata": {},
   "outputs": [
    {
     "data": {
      "text/plain": [
       "(153164, 153164, 153164, 153164, 153164)"
      ]
     },
     "execution_count": 9,
     "metadata": {},
     "output_type": "execute_result"
    }
   ],
   "source": [
    "sum(s1.id == s2.id), sum(s2.id == s3.id), sum(s3.id == s4.id), sum(s4.id == s5.id), sum(s5.id == s6.id) "
   ]
  },
  {
   "cell_type": "code",
   "execution_count": 15,
   "metadata": {},
   "outputs": [],
   "source": [
    "linear_scores = pd.concat([s1, \n",
    "                           s2.toxic,\n",
    "                          s3.toxic,\n",
    "                          s4.toxic,\n",
    "                          s5.toxic,\n",
    "                          s6.toxic], axis=1)\n",
    "\n",
    "linear_scores.columns = ['id','toxic','severe_toxic','obscene','insult','threat','identity_hate']"
   ]
  },
  {
   "cell_type": "code",
   "execution_count": 16,
   "metadata": {},
   "outputs": [
    {
     "data": {
      "text/html": [
       "<div>\n",
       "<style scoped>\n",
       "    .dataframe tbody tr th:only-of-type {\n",
       "        vertical-align: middle;\n",
       "    }\n",
       "\n",
       "    .dataframe tbody tr th {\n",
       "        vertical-align: top;\n",
       "    }\n",
       "\n",
       "    .dataframe thead th {\n",
       "        text-align: right;\n",
       "    }\n",
       "</style>\n",
       "<table border=\"1\" class=\"dataframe\">\n",
       "  <thead>\n",
       "    <tr style=\"text-align: right;\">\n",
       "      <th></th>\n",
       "      <th>id</th>\n",
       "      <th>toxic</th>\n",
       "      <th>severe_toxic</th>\n",
       "      <th>obscene</th>\n",
       "      <th>insult</th>\n",
       "      <th>threat</th>\n",
       "      <th>identity_hate</th>\n",
       "    </tr>\n",
       "  </thead>\n",
       "  <tbody>\n",
       "    <tr>\n",
       "      <th>0</th>\n",
       "      <td>00001cee341fdb12</td>\n",
       "      <td>0.999999</td>\n",
       "      <td>0.999997</td>\n",
       "      <td>0.999999</td>\n",
       "      <td>0.999999</td>\n",
       "      <td>0.999983</td>\n",
       "      <td>0.999996</td>\n",
       "    </tr>\n",
       "    <tr>\n",
       "      <th>1</th>\n",
       "      <td>0000247867823ef7</td>\n",
       "      <td>0.197854</td>\n",
       "      <td>0.644453</td>\n",
       "      <td>0.276673</td>\n",
       "      <td>0.287925</td>\n",
       "      <td>0.881224</td>\n",
       "      <td>0.675638</td>\n",
       "    </tr>\n",
       "    <tr>\n",
       "      <th>2</th>\n",
       "      <td>00013b17ad220c46</td>\n",
       "      <td>0.266559</td>\n",
       "      <td>0.705742</td>\n",
       "      <td>0.357302</td>\n",
       "      <td>0.369470</td>\n",
       "      <td>0.900061</td>\n",
       "      <td>0.732070</td>\n",
       "    </tr>\n",
       "    <tr>\n",
       "      <th>3</th>\n",
       "      <td>00017563c3f7919a</td>\n",
       "      <td>0.001850</td>\n",
       "      <td>0.017488</td>\n",
       "      <td>0.002517</td>\n",
       "      <td>0.002646</td>\n",
       "      <td>0.164654</td>\n",
       "      <td>0.021547</td>\n",
       "    </tr>\n",
       "    <tr>\n",
       "      <th>4</th>\n",
       "      <td>00017695ad8997eb</td>\n",
       "      <td>0.292616</td>\n",
       "      <td>0.711454</td>\n",
       "      <td>0.388788</td>\n",
       "      <td>0.401038</td>\n",
       "      <td>0.887595</td>\n",
       "      <td>0.734693</td>\n",
       "    </tr>\n",
       "  </tbody>\n",
       "</table>\n",
       "</div>"
      ],
      "text/plain": [
       "                 id     toxic  severe_toxic   obscene    insult    threat  \\\n",
       "0  00001cee341fdb12  0.999999      0.999997  0.999999  0.999999  0.999983   \n",
       "1  0000247867823ef7  0.197854      0.644453  0.276673  0.287925  0.881224   \n",
       "2  00013b17ad220c46  0.266559      0.705742  0.357302  0.369470  0.900061   \n",
       "3  00017563c3f7919a  0.001850      0.017488  0.002517  0.002646  0.164654   \n",
       "4  00017695ad8997eb  0.292616      0.711454  0.388788  0.401038  0.887595   \n",
       "\n",
       "   identity_hate  \n",
       "0       0.999996  \n",
       "1       0.675638  \n",
       "2       0.732070  \n",
       "3       0.021547  \n",
       "4       0.734693  "
      ]
     },
     "execution_count": 16,
     "metadata": {},
     "output_type": "execute_result"
    }
   ],
   "source": [
    "linear_scores.head()"
   ]
  },
  {
   "cell_type": "code",
   "execution_count": 17,
   "metadata": {},
   "outputs": [],
   "source": [
    "linear_scores.to_csv('pytorch/linear/linear_test_scores.csv', index=False)"
   ]
  },
  {
   "cell_type": "code",
   "execution_count": null,
   "metadata": {},
   "outputs": [],
   "source": []
  },
  {
   "cell_type": "code",
   "execution_count": 18,
   "metadata": {},
   "outputs": [],
   "source": [
    "sh1 = pd.read_csv('pytorch/linear/toxic_single_test_scores.csv')\n",
    "sh2 = pd.read_csv('pytorch/linear/severe_toxic_single_test_scores.csv')\n",
    "sh3 = pd.read_csv('pytorch/linear/obscene_single_test_scores.csv')\n",
    "sh4 = pd.read_csv('pytorch/linear/insult_single_test_scores.csv')\n",
    "sh5 = pd.read_csv('pytorch/linear/threat_single_test_scores.csv')\n",
    "sh6 = pd.read_csv('pytorch/linear/identity_hate_single_test_scores.csv')"
   ]
  },
  {
   "cell_type": "code",
   "execution_count": 19,
   "metadata": {},
   "outputs": [
    {
     "data": {
      "text/plain": [
       "(153164, 153164, 153164, 153164, 153164)"
      ]
     },
     "execution_count": 19,
     "metadata": {},
     "output_type": "execute_result"
    }
   ],
   "source": [
    "sum(sh1.id == sh2.id), sum(sh2.id == sh3.id), sum(sh3.id == sh4.id), sum(sh4.id == sh5.id), sum(sh5.id == sh6.id) "
   ]
  },
  {
   "cell_type": "code",
   "execution_count": 20,
   "metadata": {},
   "outputs": [],
   "source": [
    "single_scores = pd.concat([sh1, \n",
    "                           sh2.toxic,\n",
    "                          sh3.toxic,\n",
    "                          sh4.toxic,\n",
    "                          sh5.toxic,\n",
    "                          sh6.toxic], axis=1)\n",
    "\n",
    "single_scores.columns = ['id','toxic','severe_toxic','obscene','insult','threat','identity_hate']"
   ]
  },
  {
   "cell_type": "code",
   "execution_count": 21,
   "metadata": {},
   "outputs": [
    {
     "data": {
      "text/html": [
       "<div>\n",
       "<style scoped>\n",
       "    .dataframe tbody tr th:only-of-type {\n",
       "        vertical-align: middle;\n",
       "    }\n",
       "\n",
       "    .dataframe tbody tr th {\n",
       "        vertical-align: top;\n",
       "    }\n",
       "\n",
       "    .dataframe thead th {\n",
       "        text-align: right;\n",
       "    }\n",
       "</style>\n",
       "<table border=\"1\" class=\"dataframe\">\n",
       "  <thead>\n",
       "    <tr style=\"text-align: right;\">\n",
       "      <th></th>\n",
       "      <th>id</th>\n",
       "      <th>toxic</th>\n",
       "      <th>severe_toxic</th>\n",
       "      <th>obscene</th>\n",
       "      <th>insult</th>\n",
       "      <th>threat</th>\n",
       "      <th>identity_hate</th>\n",
       "    </tr>\n",
       "  </thead>\n",
       "  <tbody>\n",
       "    <tr>\n",
       "      <th>0</th>\n",
       "      <td>00001cee341fdb12</td>\n",
       "      <td>1.000000e+00</td>\n",
       "      <td>1.000000</td>\n",
       "      <td>1.000000e+00</td>\n",
       "      <td>1.000000</td>\n",
       "      <td>1.000000</td>\n",
       "      <td>1.000000</td>\n",
       "    </tr>\n",
       "    <tr>\n",
       "      <th>1</th>\n",
       "      <td>0000247867823ef7</td>\n",
       "      <td>1.121846e-02</td>\n",
       "      <td>0.089556</td>\n",
       "      <td>6.150166e-03</td>\n",
       "      <td>0.043331</td>\n",
       "      <td>0.371839</td>\n",
       "      <td>0.083099</td>\n",
       "    </tr>\n",
       "    <tr>\n",
       "      <th>2</th>\n",
       "      <td>00013b17ad220c46</td>\n",
       "      <td>3.961322e-02</td>\n",
       "      <td>0.215463</td>\n",
       "      <td>1.157058e-01</td>\n",
       "      <td>0.068078</td>\n",
       "      <td>0.481506</td>\n",
       "      <td>0.183616</td>\n",
       "    </tr>\n",
       "    <tr>\n",
       "      <th>3</th>\n",
       "      <td>00017563c3f7919a</td>\n",
       "      <td>4.446747e-10</td>\n",
       "      <td>0.000014</td>\n",
       "      <td>3.391366e-07</td>\n",
       "      <td>0.000026</td>\n",
       "      <td>0.000012</td>\n",
       "      <td>0.000011</td>\n",
       "    </tr>\n",
       "    <tr>\n",
       "      <th>4</th>\n",
       "      <td>00017695ad8997eb</td>\n",
       "      <td>1.194507e-01</td>\n",
       "      <td>0.333364</td>\n",
       "      <td>2.169986e-01</td>\n",
       "      <td>0.158481</td>\n",
       "      <td>0.679748</td>\n",
       "      <td>0.404628</td>\n",
       "    </tr>\n",
       "  </tbody>\n",
       "</table>\n",
       "</div>"
      ],
      "text/plain": [
       "                 id         toxic  severe_toxic       obscene    insult  \\\n",
       "0  00001cee341fdb12  1.000000e+00      1.000000  1.000000e+00  1.000000   \n",
       "1  0000247867823ef7  1.121846e-02      0.089556  6.150166e-03  0.043331   \n",
       "2  00013b17ad220c46  3.961322e-02      0.215463  1.157058e-01  0.068078   \n",
       "3  00017563c3f7919a  4.446747e-10      0.000014  3.391366e-07  0.000026   \n",
       "4  00017695ad8997eb  1.194507e-01      0.333364  2.169986e-01  0.158481   \n",
       "\n",
       "     threat  identity_hate  \n",
       "0  1.000000       1.000000  \n",
       "1  0.371839       0.083099  \n",
       "2  0.481506       0.183616  \n",
       "3  0.000012       0.000011  \n",
       "4  0.679748       0.404628  "
      ]
     },
     "execution_count": 21,
     "metadata": {},
     "output_type": "execute_result"
    }
   ],
   "source": [
    "single_scores.head()"
   ]
  },
  {
   "cell_type": "code",
   "execution_count": 22,
   "metadata": {},
   "outputs": [],
   "source": [
    "single_scores.to_csv('pytorch/linear/single_test_scores.csv', index=False)"
   ]
  },
  {
   "cell_type": "code",
   "execution_count": null,
   "metadata": {},
   "outputs": [],
   "source": []
  }
 ],
 "metadata": {
  "kernelspec": {
   "display_name": "Python 3",
   "language": "python",
   "name": "python3"
  },
  "language_info": {
   "codemirror_mode": {
    "name": "ipython",
    "version": 3
   },
   "file_extension": ".py",
   "mimetype": "text/x-python",
   "name": "python",
   "nbconvert_exporter": "python",
   "pygments_lexer": "ipython3",
   "version": "3.6.4"
  }
 },
 "nbformat": 4,
 "nbformat_minor": 2
}
