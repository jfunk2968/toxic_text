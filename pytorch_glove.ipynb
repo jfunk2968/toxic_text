{
 "cells": [
  {
   "cell_type": "code",
   "execution_count": 161,
   "metadata": {},
   "outputs": [],
   "source": [
    "import numpy as np\n",
    "import pandas as pd\n",
    "import joblib\n",
    "import matplotlib.pyplot as plt\n",
    "%matplotlib inline\n",
    "import seaborn as sns"
   ]
  },
  {
   "cell_type": "markdown",
   "metadata": {},
   "source": [
    "### Convert comments to glove word embedding vectors"
   ]
  },
  {
   "cell_type": "code",
   "execution_count": 2,
   "metadata": {
    "collapsed": true
   },
   "outputs": [
    {
     "name": "stdout",
     "output_type": "stream",
     "text": [
      "BAD READ -  52343 . . . -0.1573 -0.29517 0.30453\n",
      "BAD READ -  128261 at name@domain.com 0.0061218 0\n",
      "BAD LEN  -  142318   0.20785 0.2703 0.93632 -0.50\n",
      "BAD READ -  151102 . . . . . -0.23773 -0.82788 0.\n",
      "BAD READ -  200668 to name@domain.com 0.33865 0.1\n",
      "BAD READ -  209833 . . 0.035974 -0.024421 0.71402\n",
      "BAD READ -  220779 . . . . 0.033459 -0.085658 0.2\n",
      "BAD READ -  253461 email name@domain.com 0.33529 \n",
      "BAD LEN  -  263028 ",
      " 0.39511 0.37458 0.24418 -0.1\n",
      "BAD READ -  365745 or name@domain.com 0.48374 0.4\n",
      "BAD LEN  -  484922        0.13211 0.19999 0.37907\n",
      "BAD READ -  532048 contact name@domain.com 0.0164\n",
      "BAD LEN  -  538123    -0.38024 0.61431 0.81146 -0\n",
      "BAD LEN  -  557081     -0.0033421 0.4899 1.119 -1\n",
      "BAD READ -  717302 Email name@domain.com 0.37344 \n",
      "BAD READ -  994818 on name@domain.com 0.037295 -0\n",
      "BAD LEN  -  1032148      0.14608 0.31513 0.50599 -\n",
      "BAD LEN  -  1122163       -0.36288 -0.075749 0.354\n",
      "BAD READ -  1123331 At Killerseats.com -0.13854 -0\n",
      "BAD READ -  1148409 by name@domain.com 0.6882 -0.3\n",
      "BAD READ -  1352110 in mylot.com -0.18148 0.47096 \n",
      "BAD LEN  -  1389705         0.5478 0.18474 0.14057\n",
      "BAD READ -  1499727 emailing name@domain.com 0.391\n",
      "BAD READ -  1533809 Contact name@domain.com 0.1493\n",
      "BAD LEN  -  1618673          0.59759 -0.64012 0.32\n",
      "BAD READ -  1899841 at  name@domain.com 0.44321 -0\n",
      "BAD READ -  1921152 • name@domain.com -0.13288 -0.\n",
      "BAD READ -  2058966 at Amazon.com -0.5275 -0.73685\n",
      "BAD READ -  2165246 is name@domain.com -0.1197 0.1\n"
     ]
    }
   ],
   "source": [
    "glove = {}\n",
    "with open('../../GloVe-1.2/glove.840B.300d.txt', 'r', encoding='utf-8') as f:\n",
    "    for i, line in enumerate(f):\n",
    "        try:\n",
    "            key = line.split()[0]\n",
    "            value = np.array(line.split()[1:], np.float32)\n",
    "            if value.shape[0] != 300:\n",
    "                print(\"BAD LEN  - \", i, line[0:30])\n",
    "            else:\n",
    "                glove[key] = value\n",
    "        except:\n",
    "            print(\"BAD READ - \", i, line[0:30])\n",
    "f.close()"
   ]
  },
  {
   "cell_type": "code",
   "execution_count": 119,
   "metadata": {},
   "outputs": [
    {
     "data": {
      "text/plain": [
       "['/home/jeremy/GloVe-1.2/glove.840B.300d.dict.pckl']"
      ]
     },
     "execution_count": 119,
     "metadata": {},
     "output_type": "execute_result"
    }
   ],
   "source": [
    "joblib.dump(glove, '/home/jeremy/GloVe-1.2/glove.840B.300d.dict.pckl')"
   ]
  },
  {
   "cell_type": "code",
   "execution_count": 3,
   "metadata": {
    "collapsed": true
   },
   "outputs": [
    {
     "data": {
      "text/plain": [
       "array([ 0.17342  ,  0.42841  , -0.12137  ,  0.12503  , -0.77557  ,\n",
       "        0.4157   , -1.1029   ,  0.31284  , -0.47173  , -0.25112  ,\n",
       "       -0.47382  ,  0.15856  , -0.064695 ,  0.35716  , -0.1094   ,\n",
       "       -0.48151  ,  0.40838  ,  0.30213  , -0.19368  ,  0.35321  ,\n",
       "        0.1967   , -0.27406  , -0.10537  ,  0.3105   , -0.49084  ,\n",
       "       -0.59019  , -0.28256  ,  0.067447 ,  0.068688 , -1.4757   ,\n",
       "       -0.064048 ,  0.52788  ,  0.37621  ,  0.43549  ,  0.42615  ,\n",
       "        0.32507  , -0.16607  , -0.38979  , -0.68838  ,  1.142    ,\n",
       "       -0.44051  , -0.10226  , -0.081264 ,  0.13646  ,  0.029865 ,\n",
       "        0.93744  ,  0.12327  ,  0.26315  ,  0.34169  ,  0.29988  ,\n",
       "       -0.3654   ,  0.12366  ,  0.26209  , -0.091759 ,  0.5753   ,\n",
       "       -1.2094   , -0.076121 ,  0.53914  ,  0.067694 ,  0.020417 ,\n",
       "        0.7704   , -0.36545  , -0.19416  ,  0.1207   ,  0.0026695,\n",
       "        0.19433  ,  0.24337  ,  0.4475   , -0.37692  ,  1.0467   ,\n",
       "       -0.18357  ,  0.45931  ,  0.29174  ,  0.16686  , -0.10336  ,\n",
       "       -0.15991  ,  0.16091  ,  0.47031  , -0.25103  , -0.77158  ,\n",
       "       -0.088355 , -0.11622  ,  0.21192  ,  0.26635  ,  0.043748 ,\n",
       "       -0.35396  ,  1.148    ,  0.27511  , -0.36161  ,  0.27447  ,\n",
       "       -0.06012  , -0.68736  ,  0.30509  ,  0.34896  , -0.42259  ,\n",
       "        0.70466  ,  0.26202  , -0.22362  , -0.08074  ,  0.0931   ,\n",
       "        0.068259 , -0.044047 ,  0.24625  ,  0.24327  , -0.43866  ,\n",
       "       -1.2527   ,  0.19964  ,  0.16856  ,  0.88447  ,  0.71338  ,\n",
       "        0.12927  , -0.61275  , -0.5453   ,  0.062863 ,  0.10002  ,\n",
       "        0.22417  ,  0.38975  ,  0.10306  ,  0.36697  ,  0.20767  ,\n",
       "       -0.40406  ,  0.17206  ,  0.17899  , -0.19201  , -0.098277 ,\n",
       "       -0.14536  ,  0.70275  , -0.11404  , -0.16219  ,  0.081638 ,\n",
       "       -0.16074  , -0.25749  , -0.27264  ,  0.15673  , -0.4776   ,\n",
       "       -0.059296 ,  0.46042  , -0.41335  , -0.65636  , -0.4656   ,\n",
       "       -1.1549   ,  1.0757   ,  0.22083  ,  0.40542  , -0.46099  ,\n",
       "        0.13475  , -0.55834  ,  0.56882  , -0.1166   ,  0.15859  ,\n",
       "        0.53945  , -0.24694  ,  0.054484 ,  0.399    , -1.3225   ,\n",
       "        0.15605  ,  0.19287  , -0.42221  , -0.01417  ,  0.32651  ,\n",
       "        0.017067 ,  1.0072   , -0.59202  ,  0.34804  , -0.7425   ,\n",
       "       -0.36735  , -0.57591  , -0.89069  ,  0.36154  ,  0.041141 ,\n",
       "        0.55309  , -0.22374  ,  0.67313  , -0.074619 , -1.0373   ,\n",
       "       -0.58962  ,  0.084349 , -0.43801  ,  0.019659 ,  0.17454  ,\n",
       "        0.083834 , -0.044314 ,  0.0074681, -0.29112  ,  0.062982 ,\n",
       "       -0.34938  , -0.032402 , -0.53274  , -0.29736  , -0.066502 ,\n",
       "        0.073102 , -0.099963 ,  0.025723 , -0.65088  , -0.26674  ,\n",
       "        0.05907  ,  0.79916  , -0.5704   , -0.63743  ,  0.12649  ,\n",
       "       -0.42588  , -0.53071  , -0.068098 , -0.13092  ,  0.063765 ,\n",
       "        0.84193  ,  0.41187  ,  0.70474  ,  0.62419  , -0.13732  ,\n",
       "       -0.10046  ,  0.56769  , -0.40837  , -0.43234  , -0.58198  ,\n",
       "        0.099499 , -0.12436  ,  0.016646 ,  0.33489  ,  0.3943   ,\n",
       "       -0.75427  , -0.22112  ,  0.13741  ,  0.034619 ,  0.19423  ,\n",
       "       -0.25404  ,  0.0070892, -0.082087 , -0.18072  ,  0.60926  ,\n",
       "       -0.23865  , -0.0023959,  0.092137 ,  0.14802  , -0.55379  ,\n",
       "       -0.031967 , -0.20261  , -0.47013  , -0.046026 , -0.11282  ,\n",
       "       -0.021624 ,  0.40249  , -1.0922   , -0.76687  ,  0.14614  ,\n",
       "        0.27699  , -0.1812   , -0.023416 , -0.22345  , -0.26689  ,\n",
       "       -0.22808  , -0.32704  , -0.10434  , -0.44395  , -0.28146  ,\n",
       "       -0.010207 ,  0.15278  , -0.077416 , -0.031409 ,  0.76099  ,\n",
       "        0.63406  , -0.34607  ,  0.3769   , -0.12176  , -0.23274  ,\n",
       "        0.17185  , -0.52611  , -1.2666   , -0.68564  , -0.39184  ,\n",
       "        0.68001  ,  0.38044  ,  0.40371  ,  0.11849  , -0.86481  ,\n",
       "        0.36199  , -0.15273  ,  0.41017  , -0.46666  ,  0.91792  ,\n",
       "        0.8072   , -0.026571 ,  0.34813  , -0.3407   ,  0.72513  ,\n",
       "        0.51198  ,  0.95225  , -0.19885  ,  0.080305 ,  0.12296  ,\n",
       "        0.32103  , -0.16503  , -0.42207  , -0.075259 , -0.82394  ,\n",
       "        0.28022  , -0.036478 , -1.8458   , -0.29175  ,  0.1598   ],\n",
       "      dtype=float32)"
      ]
     },
     "execution_count": 3,
     "metadata": {},
     "output_type": "execute_result"
    }
   ],
   "source": [
    "glove['walnuts']"
   ]
  },
  {
   "cell_type": "code",
   "execution_count": 4,
   "metadata": {},
   "outputs": [],
   "source": [
    "train_clean = joblib.load('data/train_clean.pckl')\n",
    "test_clean = joblib.load('data/test_clean.pckl')"
   ]
  },
  {
   "cell_type": "code",
   "execution_count": 5,
   "metadata": {},
   "outputs": [
    {
     "data": {
      "text/plain": [
       "<matplotlib.axes._subplots.AxesSubplot at 0x7f9d4d97f128>"
      ]
     },
     "execution_count": 5,
     "metadata": {},
     "output_type": "execute_result"
    },
    {
     "data": {
      "image/png": "[encoded data removed]",
      "text/plain": [
       "<matplotlib.figure.Figure at 0x7f9d4d97f710>"
      ]
     },
     "metadata": {},
     "output_type": "display_data"
    }
   ],
   "source": [
    "train_clean['clean_text_list'].apply(lambda x: len(x)).hist(bins=100)"
   ]
  },
  {
   "cell_type": "code",
   "execution_count": 9,
   "metadata": {},
   "outputs": [
    {
     "data": {
      "text/plain": [
       "count    159571.000000\n",
       "mean         36.006618\n",
       "std          56.102106\n",
       "min           0.000000\n",
       "25%           9.000000\n",
       "50%          19.000000\n",
       "75%          39.000000\n",
       "max        1250.000000\n",
       "Name: clean_text_list, dtype: float64"
      ]
     },
     "execution_count": 9,
     "metadata": {},
     "output_type": "execute_result"
    }
   ],
   "source": [
    "train_clean['clean_text_list'].apply(lambda x: len(x)).describe()"
   ]
  },
  {
   "cell_type": "code",
   "execution_count": 8,
   "metadata": {},
   "outputs": [
    {
     "data": {
      "text/plain": [
       "0.90     79.0\n",
       "0.95    121.0\n",
       "0.98    216.0\n",
       "0.99    313.0\n",
       "Name: clean_text_list, dtype: float64"
      ]
     },
     "execution_count": 8,
     "metadata": {},
     "output_type": "execute_result"
    }
   ],
   "source": [
    "train_clean['clean_text_list'].apply(lambda x: len(x)).quantile([.9, .95, .98, .99])"
   ]
  },
  {
   "cell_type": "code",
   "execution_count": 110,
   "metadata": {},
   "outputs": [],
   "source": [
    "def get_mean_glove(sentence, impute):\n",
    "    \n",
    "    # impute array of 0's for words not found in corpus\n",
    "    g = [ glove.get(w, impute) for w in sentence ]\n",
    "    \n",
    "    # impute a single array of 0's for comments of length 0\n",
    "    if not g:\n",
    "        g = [np.zeros(300)]\n",
    "        \n",
    "    return np.asarray(g).reshape(-1, 300).mean(axis=0)"
   ]
  },
  {
   "cell_type": "code",
   "execution_count": 112,
   "metadata": {},
   "outputs": [],
   "source": [
    "impute_means = np.asarray([get_mean_glove(s, np.zeros(300)) for s in train_clean['clean_text_list']]).mean(axis=0)"
   ]
  },
  {
   "cell_type": "code",
   "execution_count": 166,
   "metadata": {},
   "outputs": [],
   "source": [
    "X = np.asarray([get_mean_glove(s, impute_means) for s in train_clean['clean_text_list']], dtype=np.float32)"
   ]
  },
  {
   "cell_type": "code",
   "execution_count": 204,
   "metadata": {},
   "outputs": [],
   "source": [
    "X_test = np.asarray([get_mean_glove(s, impute_means) for s in test_clean['clean_text_list']], dtype=np.float32)"
   ]
  },
  {
   "cell_type": "code",
   "execution_count": 210,
   "metadata": {},
   "outputs": [
    {
     "data": {
      "text/plain": [
       "\n",
       " 0\n",
       " 0\n",
       " 0\n",
       " 0\n",
       " 0\n",
       " 0\n",
       " 0\n",
       " 0\n",
       " 0\n",
       " 0\n",
       "[torch.LongTensor of size 10]"
      ]
     },
     "execution_count": 210,
     "metadata": {},
     "output_type": "execute_result"
    }
   ],
   "source": [
    "torch.LongTensor(np.zeros(10))"
   ]
  },
  {
   "cell_type": "code",
   "execution_count": 207,
   "metadata": {},
   "outputs": [
    {
     "data": {
      "text/plain": [
       "153164"
      ]
     },
     "execution_count": 207,
     "metadata": {},
     "output_type": "execute_result"
    }
   ],
   "source": [
    "X_test.shape[0]"
   ]
  },
  {
   "cell_type": "code",
   "execution_count": 203,
   "metadata": {},
   "outputs": [
    {
     "data": {
      "text/plain": [
       "['data/glove_mean_embeddings.pckl']"
      ]
     },
     "execution_count": 203,
     "metadata": {},
     "output_type": "execute_result"
    }
   ],
   "source": [
    "joblib.dump(X, 'data/glove_mean_embeddings.pckl' )"
   ]
  },
  {
   "cell_type": "code",
   "execution_count": 206,
   "metadata": {},
   "outputs": [
    {
     "data": {
      "text/plain": [
       "['data/glove_mean_embeddings_test.pckl']"
      ]
     },
     "execution_count": 206,
     "metadata": {},
     "output_type": "execute_result"
    }
   ],
   "source": [
    "joblib.dump(X_test, 'data/glove_mean_embeddings_test.pckl' )"
   ]
  },
  {
   "cell_type": "markdown",
   "metadata": {},
   "source": [
    "### Using prior splits, create training and validation data loaders"
   ]
  },
  {
   "cell_type": "code",
   "execution_count": 169,
   "metadata": {},
   "outputs": [
    {
     "data": {
      "text/plain": [
       "(99971, 59600, 159571)"
      ]
     },
     "execution_count": 169,
     "metadata": {},
     "output_type": "execute_result"
    }
   ],
   "source": [
    "splits = joblib.load('pytorch/splits.pckl')\n",
    "train_ids = [ i for i, v in enumerate(splits) if v < 10 ]\n",
    "valid_ids = [ i for i, v in enumerate(splits) if v >= 10 ]\n",
    "len(train_ids), len(valid_ids), len(train_ids)+len(valid_ids)"
   ]
  },
  {
   "cell_type": "code",
   "execution_count": 170,
   "metadata": {},
   "outputs": [],
   "source": [
    "Xtrain = X[train_ids,]\n",
    "ytrain = train_clean.loc[train_ids, 'toxic']\n",
    "\n",
    "Xvalid = X[valid_ids,]\n",
    "yvalid = train_clean.loc[valid_ids, 'toxic']"
   ]
  },
  {
   "cell_type": "code",
   "execution_count": 171,
   "metadata": {},
   "outputs": [],
   "source": [
    "import torch\n",
    "import torch.utils.data\n",
    "import torch.optim as optim\n",
    "from torch.autograd import Variable\n",
    "import torch.nn as nn\n",
    "import torch.nn.functional as F\n",
    "from sklearn.metrics import roc_curve, auc"
   ]
  },
  {
   "cell_type": "code",
   "execution_count": 172,
   "metadata": {},
   "outputs": [],
   "source": [
    "# create training data loader\n",
    "Xtrain_tensor = torch.from_numpy(Xtrain)\n",
    "ytrain_tensor = torch.LongTensor([int(x) for x in ytrain])\n",
    "train_set = torch.utils.data.TensorDataset(Xtrain_tensor, ytrain_tensor)\n",
    "train_loader = torch.utils.data.DataLoader(train_set, batch_size=64, shuffle=True, num_workers=3)"
   ]
  },
  {
   "cell_type": "code",
   "execution_count": 173,
   "metadata": {},
   "outputs": [],
   "source": [
    "# create validation data loader\n",
    "Xvalid_tensor = torch.from_numpy(Xvalid)\n",
    "yvalid_tensor = torch.LongTensor([int(x) for x in yvalid])\n",
    "valid_set = torch.utils.data.TensorDataset(Xvalid_tensor, yvalid_tensor)\n",
    "valid_loader = torch.utils.data.DataLoader(valid_set, batch_size=64, shuffle=True, num_workers=3)"
   ]
  },
  {
   "cell_type": "markdown",
   "metadata": {},
   "source": [
    "### Define simple NN with single hidden layer and dropout"
   ]
  },
  {
   "cell_type": "code",
   "execution_count": 175,
   "metadata": {},
   "outputs": [],
   "source": [
    "class GloveClassifier(nn.Module):  # inheriting from nn.Module!\n",
    "\n",
    "    def __init__(self, num_labels, dims):\n",
    "        super(GloveClassifier, self).__init__()\n",
    "        self.linear1 = nn.Linear(dims, 64)\n",
    "        self.dropout = nn.Dropout()\n",
    "        self.linear2 = nn.Linear(64, num_labels)\n",
    "\n",
    "    def forward(self, x):\n",
    "        x = self.linear1(x)\n",
    "        x = self.dropout(x)\n",
    "        x = self.linear2(x)\n",
    "        return F.log_softmax(x, dim=1)"
   ]
  },
  {
   "cell_type": "code",
   "execution_count": 177,
   "metadata": {},
   "outputs": [
    {
     "data": {
      "text/plain": [
       "Variable containing:\n",
       " 0.0958\n",
       " 0.9042\n",
       "[torch.FloatTensor of size 2]"
      ]
     },
     "execution_count": 177,
     "metadata": {},
     "output_type": "execute_result"
    }
   ],
   "source": [
    "# weight obs by inverse class occurence\n",
    "w = train_clean['toxic'].value_counts(normalize=True).iloc[::-1]\n",
    "C = Variable(torch.FloatTensor([w[1], w[0]]))\n",
    "C"
   ]
  },
  {
   "cell_type": "code",
   "execution_count": null,
   "metadata": {},
   "outputs": [],
   "source": [
    "model = GloveClassifier(2, 300)\n",
    "#model.cuda()\n",
    "\n",
    "loss_function = nn.NLLLoss(weight=C)\n",
    "optimizer = optim.SGD(model.parameters(), lr=0.001, weight_decay=.001)\n",
    "\n",
    "running_loss = 0\n",
    "test_accuracy = []"
   ]
  },
  {
   "cell_type": "code",
   "execution_count": 201,
   "metadata": {
    "scrolled": true
   },
   "outputs": [
    {
     "name": "stdout",
     "output_type": "stream",
     "text": [
      "199 loss: 0.504378\n",
      "399 loss: 0.276739\n",
      "599 loss: 0.283508\n",
      "799 loss: 0.280860\n",
      "999 loss: 0.273912\n",
      "1199 loss: 0.268961\n",
      "1399 loss: 0.272428\n",
      "60  - Test AUC: 0.957471  %\n",
      "199 loss: 0.500585\n",
      "399 loss: 0.283824\n",
      "599 loss: 0.268303\n",
      "799 loss: 0.263317\n",
      "999 loss: 0.282607\n",
      "1199 loss: 0.271667\n",
      "1399 loss: 0.279752\n",
      "61  - Test AUC: 0.957561  %\n",
      "199 loss: 0.516005\n",
      "399 loss: 0.263092\n",
      "599 loss: 0.290673\n",
      "799 loss: 0.268041\n",
      "999 loss: 0.298620\n",
      "1199 loss: 0.263016\n",
      "1399 loss: 0.281916\n",
      "62  - Test AUC: 0.957891  %\n",
      "199 loss: 0.497028\n",
      "399 loss: 0.280404\n",
      "599 loss: 0.284680\n",
      "799 loss: 0.280113\n",
      "999 loss: 0.265832\n",
      "1199 loss: 0.268431\n",
      "1399 loss: 0.271846\n",
      "63  - Test AUC: 0.957646  %\n",
      "199 loss: 0.497941\n",
      "399 loss: 0.266746\n",
      "599 loss: 0.285773\n",
      "799 loss: 0.280356\n",
      "999 loss: 0.277978\n",
      "1199 loss: 0.269839\n",
      "1399 loss: 0.277526\n",
      "64  - Test AUC: 0.957861  %\n",
      "199 loss: 0.511294\n",
      "399 loss: 0.263588\n",
      "599 loss: 0.283348\n",
      "799 loss: 0.276045\n",
      "999 loss: 0.274908\n",
      "1199 loss: 0.269158\n",
      "1399 loss: 0.287070\n",
      "65  - Test AUC: 0.957710  %\n",
      "199 loss: 0.505695\n",
      "399 loss: 0.274602\n",
      "599 loss: 0.272833\n",
      "799 loss: 0.278489\n",
      "999 loss: 0.266889\n",
      "1199 loss: 0.271741\n",
      "1399 loss: 0.278651\n",
      "66  - Test AUC: 0.957941  %\n",
      "199 loss: 0.504995\n",
      "399 loss: 0.262628\n",
      "599 loss: 0.271008\n",
      "799 loss: 0.287759\n",
      "999 loss: 0.272461\n",
      "1199 loss: 0.273472\n",
      "1399 loss: 0.291873\n",
      "67  - Test AUC: 0.957904  %\n",
      "199 loss: 0.503342\n",
      "399 loss: 0.274622\n",
      "599 loss: 0.260189\n",
      "799 loss: 0.270875\n",
      "999 loss: 0.277328\n",
      "1199 loss: 0.282464\n",
      "1399 loss: 0.277553\n",
      "68  - Test AUC: 0.958608  %\n",
      "199 loss: 0.520884\n",
      "399 loss: 0.270427\n",
      "599 loss: 0.281258\n",
      "799 loss: 0.278066\n",
      "999 loss: 0.264555\n",
      "1199 loss: 0.276423\n",
      "1399 loss: 0.274049\n",
      "69  - Test AUC: 0.957794  %\n",
      "199 loss: 0.509155\n",
      "399 loss: 0.289212\n",
      "599 loss: 0.261845\n",
      "799 loss: 0.272890\n",
      "999 loss: 0.272261\n",
      "1199 loss: 0.272144\n",
      "1399 loss: 0.271012\n",
      "70  - Test AUC: 0.957525  %\n",
      "199 loss: 0.499437\n",
      "399 loss: 0.267313\n",
      "599 loss: 0.279420\n",
      "799 loss: 0.282253\n",
      "999 loss: 0.279577\n",
      "1199 loss: 0.271273\n",
      "1399 loss: 0.273231\n",
      "71  - Test AUC: 0.958148  %\n",
      "199 loss: 0.478001\n",
      "399 loss: 0.275080\n",
      "599 loss: 0.277009\n",
      "799 loss: 0.281673\n",
      "999 loss: 0.267267\n",
      "1199 loss: 0.261653\n",
      "1399 loss: 0.284387\n",
      "72  - Test AUC: 0.958119  %\n",
      "199 loss: 0.512151\n",
      "399 loss: 0.268387\n",
      "599 loss: 0.271276\n",
      "799 loss: 0.280141\n",
      "999 loss: 0.274600\n",
      "1199 loss: 0.263909\n",
      "1399 loss: 0.283717\n",
      "73  - Test AUC: 0.958237  %\n",
      "199 loss: 0.496386\n",
      "399 loss: 0.275130\n",
      "599 loss: 0.280545\n",
      "799 loss: 0.277150\n",
      "999 loss: 0.280788\n",
      "1199 loss: 0.266204\n",
      "1399 loss: 0.269022\n",
      "74  - Test AUC: 0.958031  %\n",
      "199 loss: 0.495551\n",
      "399 loss: 0.272992\n",
      "599 loss: 0.269118\n",
      "799 loss: 0.275942\n",
      "999 loss: 0.273600\n",
      "1199 loss: 0.275597\n",
      "1399 loss: 0.273638\n",
      "75  - Test AUC: 0.958117  %\n",
      "199 loss: 0.504332\n",
      "399 loss: 0.267982\n",
      "599 loss: 0.281418\n",
      "799 loss: 0.282204\n",
      "999 loss: 0.273404\n",
      "1199 loss: 0.269209\n",
      "1399 loss: 0.261223\n",
      "76  - Test AUC: 0.958208  %\n",
      "199 loss: 0.503065\n",
      "399 loss: 0.273073\n",
      "599 loss: 0.276742\n",
      "799 loss: 0.276034\n",
      "999 loss: 0.261176\n",
      "1199 loss: 0.277847\n",
      "1399 loss: 0.286766\n",
      "77  - Test AUC: 0.958154  %\n",
      "199 loss: 0.482927\n",
      "399 loss: 0.281775\n",
      "599 loss: 0.271588\n",
      "799 loss: 0.265156\n",
      "999 loss: 0.269024\n",
      "1199 loss: 0.273531\n",
      "1399 loss: 0.287093\n",
      "78  - Test AUC: 0.958536  %\n",
      "199 loss: 0.492788\n",
      "399 loss: 0.282516\n",
      "599 loss: 0.283817\n",
      "799 loss: 0.270269\n",
      "999 loss: 0.275309\n",
      "1199 loss: 0.263624\n",
      "1399 loss: 0.262826\n",
      "79  - Test AUC: 0.958356  %\n",
      "199 loss: 0.496215\n",
      "399 loss: 0.262798\n",
      "599 loss: 0.281604\n",
      "799 loss: 0.269946\n",
      "999 loss: 0.274412\n",
      "1199 loss: 0.286974\n",
      "1399 loss: 0.266195\n",
      "80  - Test AUC: 0.958482  %\n",
      "199 loss: 0.499001\n",
      "399 loss: 0.266962\n",
      "599 loss: 0.277915\n",
      "799 loss: 0.287955\n",
      "999 loss: 0.280935\n",
      "1199 loss: 0.263203\n",
      "1399 loss: 0.270479\n",
      "81  - Test AUC: 0.958762  %\n",
      "199 loss: 0.501011\n",
      "399 loss: 0.271553\n",
      "599 loss: 0.274418\n",
      "799 loss: 0.266695\n",
      "999 loss: 0.266195\n",
      "1199 loss: 0.279716\n",
      "1399 loss: 0.272279\n",
      "82  - Test AUC: 0.958483  %\n",
      "199 loss: 0.490897\n",
      "399 loss: 0.261554\n",
      "599 loss: 0.255735\n",
      "799 loss: 0.266347\n",
      "999 loss: 0.289187\n",
      "1199 loss: 0.273647\n",
      "1399 loss: 0.283734\n",
      "83  - Test AUC: 0.958441  %\n",
      "199 loss: 0.496794\n",
      "399 loss: 0.267903\n",
      "599 loss: 0.268776\n",
      "799 loss: 0.278009\n",
      "999 loss: 0.271896\n",
      "1199 loss: 0.275649\n",
      "1399 loss: 0.275946\n",
      "84  - Test AUC: 0.958834  %\n",
      "199 loss: 0.517609\n",
      "399 loss: 0.265200\n",
      "599 loss: 0.273576\n",
      "799 loss: 0.263454\n",
      "999 loss: 0.272253\n",
      "1199 loss: 0.268812\n",
      "1399 loss: 0.282266\n",
      "85  - Test AUC: 0.958809  %\n",
      "199 loss: 0.484767\n",
      "399 loss: 0.284123\n",
      "599 loss: 0.280917\n",
      "799 loss: 0.276751\n",
      "999 loss: 0.279665\n",
      "1199 loss: 0.266692\n",
      "1399 loss: 0.266022\n",
      "86  - Test AUC: 0.958632  %\n",
      "199 loss: 0.501844\n",
      "399 loss: 0.264847\n",
      "599 loss: 0.268985\n",
      "799 loss: 0.271551\n",
      "999 loss: 0.270060\n",
      "1199 loss: 0.263166\n",
      "1399 loss: 0.280230\n",
      "87  - Test AUC: 0.959352  %\n",
      "199 loss: 0.489130\n",
      "399 loss: 0.284170\n",
      "599 loss: 0.276936\n",
      "799 loss: 0.258965\n",
      "999 loss: 0.279785\n",
      "1199 loss: 0.278036\n",
      "1399 loss: 0.261835\n",
      "88  - Test AUC: 0.959185  %\n",
      "199 loss: 0.494755\n",
      "399 loss: 0.277706\n",
      "599 loss: 0.286734\n",
      "799 loss: 0.271924\n",
      "999 loss: 0.268789\n",
      "1199 loss: 0.271932\n",
      "1399 loss: 0.271560\n",
      "89  - Test AUC: 0.959039  %\n",
      "199 loss: 0.493492\n",
      "399 loss: 0.271473\n",
      "599 loss: 0.259518\n",
      "799 loss: 0.265638\n",
      "999 loss: 0.288062\n",
      "1199 loss: 0.267640\n",
      "1399 loss: 0.269505\n",
      "90  - Test AUC: 0.959162  %\n",
      "199 loss: 0.492270\n",
      "399 loss: 0.272684\n",
      "599 loss: 0.252232\n",
      "799 loss: 0.279638\n",
      "999 loss: 0.266903\n",
      "1199 loss: 0.287761\n",
      "1399 loss: 0.271581\n",
      "91  - Test AUC: 0.959135  %\n",
      "199 loss: 0.497519\n",
      "399 loss: 0.271985\n",
      "599 loss: 0.268273\n",
      "799 loss: 0.275567\n",
      "999 loss: 0.261044\n",
      "1199 loss: 0.273181\n",
      "1399 loss: 0.278910\n",
      "92  - Test AUC: 0.958937  %\n",
      "199 loss: 0.511891\n",
      "399 loss: 0.266351\n",
      "599 loss: 0.268663\n",
      "799 loss: 0.273154\n",
      "999 loss: 0.267707\n",
      "1199 loss: 0.273843\n",
      "1399 loss: 0.274011\n",
      "93  - Test AUC: 0.958898  %\n",
      "199 loss: 0.495067\n",
      "399 loss: 0.263912\n",
      "599 loss: 0.267719\n",
      "799 loss: 0.267419\n",
      "999 loss: 0.273116\n",
      "1199 loss: 0.264960\n",
      "1399 loss: 0.273924\n",
      "94  - Test AUC: 0.958875  %\n",
      "199 loss: 0.505480\n",
      "399 loss: 0.265645\n",
      "599 loss: 0.278073\n",
      "799 loss: 0.273310\n",
      "999 loss: 0.266622\n",
      "1199 loss: 0.276666\n",
      "1399 loss: 0.277017\n",
      "95  - Test AUC: 0.958927  %\n",
      "199 loss: 0.474697\n",
      "399 loss: 0.272122\n",
      "599 loss: 0.283049\n",
      "799 loss: 0.287702\n",
      "999 loss: 0.264108\n",
      "1199 loss: 0.270858\n",
      "1399 loss: 0.272123\n",
      "96  - Test AUC: 0.959097  %\n",
      "199 loss: 0.487135\n",
      "399 loss: 0.273941\n",
      "599 loss: 0.268186\n",
      "799 loss: 0.278282\n",
      "999 loss: 0.276124\n",
      "1199 loss: 0.264413\n",
      "1399 loss: 0.274164\n",
      "97  - Test AUC: 0.959366  %\n",
      "199 loss: 0.490214\n",
      "399 loss: 0.265440\n",
      "599 loss: 0.273485\n",
      "799 loss: 0.271391\n",
      "999 loss: 0.277809\n",
      "1199 loss: 0.275868\n",
      "1399 loss: 0.272854\n",
      "98  - Test AUC: 0.959125  %\n",
      "199 loss: 0.489831\n",
      "399 loss: 0.266937\n",
      "599 loss: 0.274673\n",
      "799 loss: 0.269168\n",
      "999 loss: 0.267894\n",
      "1199 loss: 0.276641\n",
      "1399 loss: 0.259027\n",
      "99  - Test AUC: 0.958886  %\n"
     ]
    }
   ],
   "source": [
    "for epoch in range(60, 100):\n",
    "\n",
    "    for i, data in enumerate(train_loader):\n",
    "\n",
    "        inputs, labels = data\n",
    "        inputs, labels = Variable(inputs), Variable(labels)\n",
    "\n",
    "        optimizer.zero_grad()\n",
    "\n",
    "        log_probs = model(inputs)\n",
    "\n",
    "        loss = loss_function(log_probs, labels)\n",
    "        loss.backward()\n",
    "        optimizer.step()\n",
    "\n",
    "        running_loss += loss.data[0]\n",
    "\n",
    "        if ((i+1)% 200 == 0):\n",
    "            print('%d loss: %.6f' % (i, running_loss / 200))\n",
    "            running_loss = 0\n",
    "\n",
    "    pred = []\n",
    "    act = []\n",
    "\n",
    "    for i, data in enumerate(valid_loader):\n",
    "\n",
    "        inputs, labels = data\n",
    "        outputs = model(Variable(inputs)) #.cuda())\n",
    "        pred += list(outputs[:,1].data)\n",
    "        act += list(labels)\n",
    "\n",
    "    fpr, tpr, thresholds = roc_curve(act, pred, pos_label=1)\n",
    "    roc_auc = auc(fpr, tpr)\n",
    "    roc_auc \n",
    "\n",
    "    print(epoch, ' - Test AUC: %0.6f  %%' % roc_auc)\n",
    "    test_accuracy.append(roc_auc)"
   ]
  },
  {
   "cell_type": "code",
   "execution_count": 202,
   "metadata": {},
   "outputs": [
    {
     "data": {
      "text/plain": [
       "<matplotlib.axes._subplots.AxesSubplot at 0x7f1c5c3ef748>"
      ]
     },
     "execution_count": 202,
     "metadata": {},
     "output_type": "execute_result"
    },
    {
     "data": {
      "image/png": "[encoded data removed]",
      "text/plain": [
       "<matplotlib.figure.Figure at 0x7f1c5c6ee470>"
      ]
     },
     "metadata": {},
     "output_type": "display_data"
    }
   ],
   "source": [
    "df = pd.DataFrame(data = {'accuracy' :  test_accuracy, \n",
    "                          'epoch':  range(len(test_accuracy))})\n",
    "\n",
    "sns.pointplot(x='epoch', y='accuracy', data=df)"
   ]
  },
  {
   "cell_type": "code",
   "execution_count": null,
   "metadata": {},
   "outputs": [],
   "source": []
  },
  {
   "cell_type": "code",
   "execution_count": null,
   "metadata": {},
   "outputs": [],
   "source": [
    "pred = []\n",
    "\n",
    "Xtest = joblib.load('../data/glove_mean_embeddings_test.pckl')\n",
    "Xtest_tensor = torch.from_numpy(Xtest)\n",
    "test_set = torch.utils.data.TensorDataset(Xtest_tensor, torch.zeros(len(Xtest)))\n",
    "test_loader = torch.utils.data.DataLoader(test_set, \n",
    "    batch_size=100, shuffle=True, num_workers=1)\n",
    "\n",
    "for data, l in test_loader:\n",
    "    inputs = data\n",
    "    outputs = netmodel(Variable(inputs).cuda())\n",
    "    pred += list(outputs[:,1].data)\n",
    "\n",
    "test_clean = joblib.load('../data/test_clean.pckl')\n",
    "\n",
    "scores = pd.concat([test_clean['id'], pd.Series(pred).apply(lambda x: np.exp(x))], axis=1) \n",
    "scores.columns=['id', args.target]\n",
    "scores.to_csv(outfile, index=False)\n",
    "return None"
   ]
  },
  {
   "cell_type": "code",
   "execution_count": 211,
   "metadata": {},
   "outputs": [],
   "source": [
    "scores = model(Variable(torch.from_numpy(X_test)))"
   ]
  },
  {
   "cell_type": "code",
   "execution_count": 212,
   "metadata": {},
   "outputs": [
    {
     "data": {
      "text/plain": [
       "Variable containing:\n",
       " -6.0575  -0.0023\n",
       " -0.2490  -1.5124\n",
       " -0.0111  -4.5027\n",
       "        ⋮         \n",
       " -0.1093  -2.2676\n",
       " -0.0475  -3.0704\n",
       " -2.3882  -0.0963\n",
       "[torch.FloatTensor of size 153164x2]"
      ]
     },
     "execution_count": 212,
     "metadata": {},
     "output_type": "execute_result"
    }
   ],
   "source": [
    "scores"
   ]
  },
  {
   "cell_type": "code",
   "execution_count": 217,
   "metadata": {},
   "outputs": [
    {
     "data": {
      "text/html": [
       "<div>\n",
       "<style scoped>\n",
       "    .dataframe tbody tr th:only-of-type {\n",
       "        vertical-align: middle;\n",
       "    }\n",
       "\n",
       "    .dataframe tbody tr th {\n",
       "        vertical-align: top;\n",
       "    }\n",
       "\n",
       "    .dataframe thead th {\n",
       "        text-align: right;\n",
       "    }\n",
       "</style>\n",
       "<table border=\"1\" class=\"dataframe\">\n",
       "  <thead>\n",
       "    <tr style=\"text-align: right;\">\n",
       "      <th></th>\n",
       "      <th>0</th>\n",
       "      <th>1</th>\n",
       "      <th>2</th>\n",
       "      <th>3</th>\n",
       "      <th>4</th>\n",
       "      <th>5</th>\n",
       "      <th>6</th>\n",
       "      <th>7</th>\n",
       "      <th>8</th>\n",
       "      <th>9</th>\n",
       "      <th>...</th>\n",
       "      <th>290</th>\n",
       "      <th>291</th>\n",
       "      <th>292</th>\n",
       "      <th>293</th>\n",
       "      <th>294</th>\n",
       "      <th>295</th>\n",
       "      <th>296</th>\n",
       "      <th>297</th>\n",
       "      <th>298</th>\n",
       "      <th>299</th>\n",
       "    </tr>\n",
       "  </thead>\n",
       "  <tbody>\n",
       "    <tr>\n",
       "      <th>153159</th>\n",
       "      <td>-0.239131</td>\n",
       "      <td>0.086813</td>\n",
       "      <td>-0.374401</td>\n",
       "      <td>0.004080</td>\n",
       "      <td>-0.122726</td>\n",
       "      <td>0.256395</td>\n",
       "      <td>-0.026060</td>\n",
       "      <td>-0.440183</td>\n",
       "      <td>-0.010516</td>\n",
       "      <td>2.237900</td>\n",
       "      <td>...</td>\n",
       "      <td>-0.148079</td>\n",
       "      <td>0.008841</td>\n",
       "      <td>-0.112323</td>\n",
       "      <td>-0.104593</td>\n",
       "      <td>0.082093</td>\n",
       "      <td>0.053799</td>\n",
       "      <td>-0.113155</td>\n",
       "      <td>-0.047068</td>\n",
       "      <td>0.100132</td>\n",
       "      <td>0.168129</td>\n",
       "    </tr>\n",
       "    <tr>\n",
       "      <th>153160</th>\n",
       "      <td>-0.018004</td>\n",
       "      <td>0.115340</td>\n",
       "      <td>-0.139041</td>\n",
       "      <td>0.081994</td>\n",
       "      <td>0.067978</td>\n",
       "      <td>0.034809</td>\n",
       "      <td>0.113983</td>\n",
       "      <td>0.065407</td>\n",
       "      <td>0.013996</td>\n",
       "      <td>1.800163</td>\n",
       "      <td>...</td>\n",
       "      <td>-0.004889</td>\n",
       "      <td>0.052900</td>\n",
       "      <td>0.044046</td>\n",
       "      <td>-0.035669</td>\n",
       "      <td>0.038218</td>\n",
       "      <td>-0.176424</td>\n",
       "      <td>0.056709</td>\n",
       "      <td>-0.111344</td>\n",
       "      <td>-0.185500</td>\n",
       "      <td>-0.039604</td>\n",
       "    </tr>\n",
       "    <tr>\n",
       "      <th>153161</th>\n",
       "      <td>-0.091347</td>\n",
       "      <td>0.018573</td>\n",
       "      <td>-0.110105</td>\n",
       "      <td>0.014345</td>\n",
       "      <td>0.079016</td>\n",
       "      <td>-0.068000</td>\n",
       "      <td>-0.021574</td>\n",
       "      <td>0.015599</td>\n",
       "      <td>-0.063619</td>\n",
       "      <td>1.713953</td>\n",
       "      <td>...</td>\n",
       "      <td>-0.127277</td>\n",
       "      <td>0.121574</td>\n",
       "      <td>-0.110550</td>\n",
       "      <td>-0.140547</td>\n",
       "      <td>0.166343</td>\n",
       "      <td>-0.140938</td>\n",
       "      <td>-0.218039</td>\n",
       "      <td>-0.035746</td>\n",
       "      <td>0.238082</td>\n",
       "      <td>0.036859</td>\n",
       "    </tr>\n",
       "    <tr>\n",
       "      <th>153162</th>\n",
       "      <td>-0.018123</td>\n",
       "      <td>0.097923</td>\n",
       "      <td>-0.109054</td>\n",
       "      <td>0.042866</td>\n",
       "      <td>0.198605</td>\n",
       "      <td>-0.012639</td>\n",
       "      <td>0.010624</td>\n",
       "      <td>0.072936</td>\n",
       "      <td>-0.060098</td>\n",
       "      <td>1.745123</td>\n",
       "      <td>...</td>\n",
       "      <td>-0.153311</td>\n",
       "      <td>0.027266</td>\n",
       "      <td>-0.194491</td>\n",
       "      <td>-0.065747</td>\n",
       "      <td>0.087041</td>\n",
       "      <td>-0.059262</td>\n",
       "      <td>-0.079903</td>\n",
       "      <td>-0.070492</td>\n",
       "      <td>-0.006794</td>\n",
       "      <td>0.110591</td>\n",
       "    </tr>\n",
       "    <tr>\n",
       "      <th>153163</th>\n",
       "      <td>-0.247709</td>\n",
       "      <td>0.100545</td>\n",
       "      <td>-0.187481</td>\n",
       "      <td>-0.121590</td>\n",
       "      <td>-0.023746</td>\n",
       "      <td>0.148450</td>\n",
       "      <td>0.092791</td>\n",
       "      <td>-0.149952</td>\n",
       "      <td>-0.080544</td>\n",
       "      <td>2.021887</td>\n",
       "      <td>...</td>\n",
       "      <td>-0.176057</td>\n",
       "      <td>0.060877</td>\n",
       "      <td>-0.169323</td>\n",
       "      <td>-0.056754</td>\n",
       "      <td>0.254278</td>\n",
       "      <td>0.068550</td>\n",
       "      <td>-0.062881</td>\n",
       "      <td>0.065956</td>\n",
       "      <td>-0.075787</td>\n",
       "      <td>0.227117</td>\n",
       "    </tr>\n",
       "  </tbody>\n",
       "</table>\n",
       "<p>5 rows × 300 columns</p>\n",
       "</div>"
      ],
      "text/plain": [
       "             0         1         2         3         4         5         6    \\\n",
       "153159 -0.239131  0.086813 -0.374401  0.004080 -0.122726  0.256395 -0.026060   \n",
       "153160 -0.018004  0.115340 -0.139041  0.081994  0.067978  0.034809  0.113983   \n",
       "153161 -0.091347  0.018573 -0.110105  0.014345  0.079016 -0.068000 -0.021574   \n",
       "153162 -0.018123  0.097923 -0.109054  0.042866  0.198605 -0.012639  0.010624   \n",
       "153163 -0.247709  0.100545 -0.187481 -0.121590 -0.023746  0.148450  0.092791   \n",
       "\n",
       "             7         8         9      ...          290       291       292  \\\n",
       "153159 -0.440183 -0.010516  2.237900    ...    -0.148079  0.008841 -0.112323   \n",
       "153160  0.065407  0.013996  1.800163    ...    -0.004889  0.052900  0.044046   \n",
       "153161  0.015599 -0.063619  1.713953    ...    -0.127277  0.121574 -0.110550   \n",
       "153162  0.072936 -0.060098  1.745123    ...    -0.153311  0.027266 -0.194491   \n",
       "153163 -0.149952 -0.080544  2.021887    ...    -0.176057  0.060877 -0.169323   \n",
       "\n",
       "             293       294       295       296       297       298       299  \n",
       "153159 -0.104593  0.082093  0.053799 -0.113155 -0.047068  0.100132  0.168129  \n",
       "153160 -0.035669  0.038218 -0.176424  0.056709 -0.111344 -0.185500 -0.039604  \n",
       "153161 -0.140547  0.166343 -0.140938 -0.218039 -0.035746  0.238082  0.036859  \n",
       "153162 -0.065747  0.087041 -0.059262 -0.079903 -0.070492 -0.006794  0.110591  \n",
       "153163 -0.056754  0.254278  0.068550 -0.062881  0.065956 -0.075787  0.227117  \n",
       "\n",
       "[5 rows x 300 columns]"
      ]
     },
     "execution_count": 217,
     "metadata": {},
     "output_type": "execute_result"
    }
   ],
   "source": [
    "pd.DataFrame(X_test).tail()"
   ]
  },
  {
   "cell_type": "code",
   "execution_count": null,
   "metadata": {},
   "outputs": [],
   "source": []
  },
  {
   "cell_type": "code",
   "execution_count": 218,
   "metadata": {},
   "outputs": [],
   "source": [
    "\n",
    "\n",
    "class GloveClassifier(nn.Module):  # inheriting from nn.Module!\n",
    "\n",
    "    def __init__(self, num_labels, dims):\n",
    "        super(GloveClassifier, self).__init__()\n",
    "        self.linear1 = nn.Linear(dims, 64)\n",
    "        self.dropout = nn.Dropout()\n",
    "        self.linear2 = nn.Linear(64, num_labels)\n",
    "\n",
    "    def forward(self, x):\n",
    "        x = self.linear1(x)\n",
    "        x = self.dropout(x)\n",
    "        x = self.linear2(x)\n",
    "        return F.log_softmax(x, dim=1)\n"
   ]
  },
  {
   "cell_type": "code",
   "execution_count": 219,
   "metadata": {},
   "outputs": [],
   "source": [
    "model = GloveClassifier(2, 300)"
   ]
  },
  {
   "cell_type": "code",
   "execution_count": 224,
   "metadata": {},
   "outputs": [],
   "source": [
    "Xtest_tensor = torch.from_numpy(X_test)"
   ]
  },
  {
   "cell_type": "code",
   "execution_count": 230,
   "metadata": {},
   "outputs": [],
   "source": [
    "def create_submission(netmodel, outfile, target):\n",
    "    outputs = netmodel(Variable(Xtest_tensor))\n",
    "    pred = list(outputs[:,1].data)\n",
    "    scores = pd.concat([test_clean['id'], pd.Series(pred).apply(lambda x: np.exp(x))], axis=1) \n",
    "    scores.columns=['id', target]\n",
    "    scores.to_csv(outfile, index=False)\n",
    "    return None"
   ]
  },
  {
   "cell_type": "code",
   "execution_count": 234,
   "metadata": {},
   "outputs": [],
   "source": [
    "for target in ['toxic','severe_toxic','obscene','threat','insult','identity_hate']:\n",
    "    model.load_state_dict(torch.load('pytorch/glove_mean/'+target+'_model_state'))\n",
    "    create_submission(model, 'pytorch/glove_mean/'+target+'_test_scores.csv', target)"
   ]
  },
  {
   "cell_type": "code",
   "execution_count": null,
   "metadata": {},
   "outputs": [],
   "source": []
  }
 ],
 "metadata": {
  "kernelspec": {
   "display_name": "Python 3",
   "language": "python",
   "name": "python3"
  },
  "language_info": {
   "codemirror_mode": {
    "name": "ipython",
    "version": 3
   },
   "file_extension": ".py",
   "mimetype": "text/x-python",
   "name": "python",
   "nbconvert_exporter": "python",
   "pygments_lexer": "ipython3",
   "version": "3.6.4"
  }
 },
 "nbformat": 4,
 "nbformat_minor": 2
}
