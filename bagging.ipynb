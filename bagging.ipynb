{
 "cells": [
  {
   "cell_type": "code",
   "execution_count": 1,
   "metadata": {
    "collapsed": true
   },
   "outputs": [],
   "source": [
    "import pandas as pd\n",
    "import numpy as np\n",
    "import matplotlib.pyplot as plt\n",
    "%matplotlib inline  \n",
    "import joblib\n",
    "from sklearn.metrics import roc_curve, auc\n",
    "from sklearn.linear_model import LogisticRegression\n",
    "from sklearn.ensemble import BaggingClassifier"
   ]
  },
  {
   "cell_type": "markdown",
   "metadata": {},
   "source": [
    "## Load Data"
   ]
  },
  {
   "cell_type": "code",
   "execution_count": 2,
   "metadata": {
    "collapsed": true
   },
   "outputs": [],
   "source": [
    "train_clean = joblib.load('data/train_clean.pckl')\n",
    "test_clean = joblib.load('data/test_clean.pckl')\n",
    "\n",
    "X_tfidf = joblib.load('data/X_tfidf.pckl')\n",
    "X_test_tfidf = joblib.load('data/X_test_tfidf.pckl')"
   ]
  },
  {
   "cell_type": "markdown",
   "metadata": {},
   "source": [
    "## Regularized Logistic Regression - Bagged Approach"
   ]
  },
  {
   "cell_type": "code",
   "execution_count": 36,
   "metadata": {},
   "outputs": [
    {
     "name": "stdout",
     "output_type": "stream",
     "text": [
      "TOXIC   :   0.99977\n",
      "SEVERE_TOXIC   :   0.99706\n",
      "OBSCENE   :   0.99946\n",
      "THREAT   :   0.99993\n",
      "INSULT   :   0.99859\n",
      "IDENTITY_HATE   :   0.9995\n"
     ]
    }
   ],
   "source": [
    "final_c = {'toxic':20,\n",
    "           'severe_toxic':2,\n",
    "           'obscene':9,\n",
    "           'threat':11,\n",
    "           'insult':7,\n",
    "           'identity_hate':9}\n",
    "\n",
    "log_bagged = test_clean[['id']].copy()\n",
    "\n",
    "for target in ['toxic','severe_toxic','obscene','threat','insult','identity_hate']:\n",
    "        \n",
    "    bag = BaggingClassifier(base_estimator=LogisticRegression(C=final_c[target]),\n",
    "                           n_estimators=30,\n",
    "                           max_features=1.0,\n",
    "                           max_samples=1.0,\n",
    "                           bootstrap=True,\n",
    "                           n_jobs=2,\n",
    "                           random_state=58999414)\n",
    "    \n",
    "    bag.fit(X_tfidf, train_clean[target])\n",
    "    \n",
    "    preds = bag.predict_proba(X_tfidf)\n",
    "    fpr, tpr, thresholds = roc_curve(train_clean[target], preds[:,1], pos_label=1)\n",
    "    roc_auc = auc(fpr, tpr)\n",
    "    print(target.upper(),\"  :  \", round(roc_auc,5))\n",
    "    \n",
    "    log_bagged[target] = bag.predict_proba(X_test_tfidf)[:,1]\n",
    "    "
   ]
  },
  {
   "cell_type": "code",
   "execution_count": 37,
   "metadata": {},
   "outputs": [
    {
     "data": {
      "text/html": [
       "<div>\n",
       "<style>\n",
       "    .dataframe thead tr:only-child th {\n",
       "        text-align: right;\n",
       "    }\n",
       "\n",
       "    .dataframe thead th {\n",
       "        text-align: left;\n",
       "    }\n",
       "\n",
       "    .dataframe tbody tr th {\n",
       "        vertical-align: top;\n",
       "    }\n",
       "</style>\n",
       "<table border=\"1\" class=\"dataframe\">\n",
       "  <thead>\n",
       "    <tr style=\"text-align: right;\">\n",
       "      <th></th>\n",
       "      <th>id</th>\n",
       "      <th>toxic</th>\n",
       "      <th>severe_toxic</th>\n",
       "      <th>obscene</th>\n",
       "      <th>threat</th>\n",
       "      <th>insult</th>\n",
       "      <th>identity_hate</th>\n",
       "    </tr>\n",
       "  </thead>\n",
       "  <tbody>\n",
       "    <tr>\n",
       "      <th>0</th>\n",
       "      <td>00001cee341fdb12</td>\n",
       "      <td>0.999996</td>\n",
       "      <td>0.243478</td>\n",
       "      <td>0.999899</td>\n",
       "      <td>0.036606</td>\n",
       "      <td>0.996166</td>\n",
       "      <td>0.432437</td>\n",
       "    </tr>\n",
       "    <tr>\n",
       "      <th>1</th>\n",
       "      <td>0000247867823ef7</td>\n",
       "      <td>0.001585</td>\n",
       "      <td>0.003528</td>\n",
       "      <td>0.002081</td>\n",
       "      <td>0.000667</td>\n",
       "      <td>0.004259</td>\n",
       "      <td>0.001441</td>\n",
       "    </tr>\n",
       "    <tr>\n",
       "      <th>2</th>\n",
       "      <td>00013b17ad220c46</td>\n",
       "      <td>0.006103</td>\n",
       "      <td>0.003418</td>\n",
       "      <td>0.004396</td>\n",
       "      <td>0.000444</td>\n",
       "      <td>0.005700</td>\n",
       "      <td>0.001130</td>\n",
       "    </tr>\n",
       "    <tr>\n",
       "      <th>3</th>\n",
       "      <td>00017563c3f7919a</td>\n",
       "      <td>0.000698</td>\n",
       "      <td>0.002163</td>\n",
       "      <td>0.001245</td>\n",
       "      <td>0.000393</td>\n",
       "      <td>0.001622</td>\n",
       "      <td>0.000455</td>\n",
       "    </tr>\n",
       "    <tr>\n",
       "      <th>4</th>\n",
       "      <td>00017695ad8997eb</td>\n",
       "      <td>0.007399</td>\n",
       "      <td>0.002157</td>\n",
       "      <td>0.002895</td>\n",
       "      <td>0.000325</td>\n",
       "      <td>0.005407</td>\n",
       "      <td>0.000668</td>\n",
       "    </tr>\n",
       "  </tbody>\n",
       "</table>\n",
       "</div>"
      ],
      "text/plain": [
       "                 id     toxic  severe_toxic   obscene    threat    insult  \\\n",
       "0  00001cee341fdb12  0.999996      0.243478  0.999899  0.036606  0.996166   \n",
       "1  0000247867823ef7  0.001585      0.003528  0.002081  0.000667  0.004259   \n",
       "2  00013b17ad220c46  0.006103      0.003418  0.004396  0.000444  0.005700   \n",
       "3  00017563c3f7919a  0.000698      0.002163  0.001245  0.000393  0.001622   \n",
       "4  00017695ad8997eb  0.007399      0.002157  0.002895  0.000325  0.005407   \n",
       "\n",
       "   identity_hate  \n",
       "0       0.432437  \n",
       "1       0.001441  \n",
       "2       0.001130  \n",
       "3       0.000455  \n",
       "4       0.000668  "
      ]
     },
     "execution_count": 37,
     "metadata": {},
     "output_type": "execute_result"
    }
   ],
   "source": [
    "log_bagged.head()"
   ]
  },
  {
   "cell_type": "code",
   "execution_count": 40,
   "metadata": {},
   "outputs": [],
   "source": [
    "log_bagged.to_csv('data/S6_bagged_log.csv', index=False)"
   ]
  },
  {
   "cell_type": "code",
   "execution_count": null,
   "metadata": {
    "collapsed": true
   },
   "outputs": [],
   "source": []
  }
 ],
 "metadata": {
  "kernelspec": {
   "display_name": "Python 3",
   "language": "python",
   "name": "python3"
  },
  "language_info": {
   "codemirror_mode": {
    "name": "ipython",
    "version": 3
   },
   "file_extension": ".py",
   "mimetype": "text/x-python",
   "name": "python",
   "nbconvert_exporter": "python",
   "pygments_lexer": "ipython3",
   "version": "3.6.1"
  }
 },
 "nbformat": 4,
 "nbformat_minor": 2
}
