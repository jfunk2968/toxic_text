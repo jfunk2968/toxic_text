{
 "cells": [
  {
   "cell_type": "code",
   "execution_count": 1,
   "metadata": {},
   "outputs": [],
   "source": [
    "import numpy as np\n",
    "import pandas as pd\n",
    "import joblib\n",
    "import matplotlib.pyplot as plt\n",
    "%matplotlib inline\n",
    "import seaborn as sns"
   ]
  },
  {
   "cell_type": "code",
   "execution_count": 64,
   "metadata": {},
   "outputs": [],
   "source": [
    "glove = joblib.load('/home/jeremy/GloVe-1.2/glove.840B.300d.dict.pckl')"
   ]
  },
  {
   "cell_type": "code",
   "execution_count": 63,
   "metadata": {},
   "outputs": [],
   "source": [
    "train_clean = joblib.load('data/train_clean.pckl')"
   ]
  },
  {
   "cell_type": "code",
   "execution_count": 10,
   "metadata": {},
   "outputs": [],
   "source": [
    "import torch\n",
    "import torch.nn as nn\n",
    "import torch.nn.functional as F\n",
    "from torch.autograd import Variable\n",
    "from torch.utils.data import DataLoader"
   ]
  },
  {
   "cell_type": "code",
   "execution_count": 65,
   "metadata": {},
   "outputs": [
    {
     "data": {
      "text/html": [
       "<div>\n",
       "<style scoped>\n",
       "    .dataframe tbody tr th:only-of-type {\n",
       "        vertical-align: middle;\n",
       "    }\n",
       "\n",
       "    .dataframe tbody tr th {\n",
       "        vertical-align: top;\n",
       "    }\n",
       "\n",
       "    .dataframe thead th {\n",
       "        text-align: right;\n",
       "    }\n",
       "</style>\n",
       "<table border=\"1\" class=\"dataframe\">\n",
       "  <thead>\n",
       "    <tr style=\"text-align: right;\">\n",
       "      <th></th>\n",
       "      <th>0</th>\n",
       "      <th>1</th>\n",
       "      <th>2</th>\n",
       "      <th>3</th>\n",
       "      <th>4</th>\n",
       "    </tr>\n",
       "  </thead>\n",
       "  <tbody>\n",
       "    <tr>\n",
       "      <th>id</th>\n",
       "      <td>0000997932d777bf</td>\n",
       "      <td>000103f0d9cfb60f</td>\n",
       "      <td>000113f07ec002fd</td>\n",
       "      <td>0001b41b1c6bb37e</td>\n",
       "      <td>0001d958c54c6e35</td>\n",
       "    </tr>\n",
       "    <tr>\n",
       "      <th>comment_text</th>\n",
       "      <td>Explanation\\nWhy the edits made under my usern...</td>\n",
       "      <td>D'aww! He matches this background colour I'm s...</td>\n",
       "      <td>Hey man, I'm really not trying to edit war. It...</td>\n",
       "      <td>\"\\nMore\\nI can't make any real suggestions on ...</td>\n",
       "      <td>You, sir, are my hero. Any chance you remember...</td>\n",
       "    </tr>\n",
       "    <tr>\n",
       "      <th>toxic</th>\n",
       "      <td>0</td>\n",
       "      <td>0</td>\n",
       "      <td>0</td>\n",
       "      <td>0</td>\n",
       "      <td>0</td>\n",
       "    </tr>\n",
       "    <tr>\n",
       "      <th>severe_toxic</th>\n",
       "      <td>0</td>\n",
       "      <td>0</td>\n",
       "      <td>0</td>\n",
       "      <td>0</td>\n",
       "      <td>0</td>\n",
       "    </tr>\n",
       "    <tr>\n",
       "      <th>obscene</th>\n",
       "      <td>0</td>\n",
       "      <td>0</td>\n",
       "      <td>0</td>\n",
       "      <td>0</td>\n",
       "      <td>0</td>\n",
       "    </tr>\n",
       "    <tr>\n",
       "      <th>threat</th>\n",
       "      <td>0</td>\n",
       "      <td>0</td>\n",
       "      <td>0</td>\n",
       "      <td>0</td>\n",
       "      <td>0</td>\n",
       "    </tr>\n",
       "    <tr>\n",
       "      <th>insult</th>\n",
       "      <td>0</td>\n",
       "      <td>0</td>\n",
       "      <td>0</td>\n",
       "      <td>0</td>\n",
       "      <td>0</td>\n",
       "    </tr>\n",
       "    <tr>\n",
       "      <th>identity_hate</th>\n",
       "      <td>0</td>\n",
       "      <td>0</td>\n",
       "      <td>0</td>\n",
       "      <td>0</td>\n",
       "      <td>0</td>\n",
       "    </tr>\n",
       "    <tr>\n",
       "      <th>clean_text_list</th>\n",
       "      <td>[explanation, edits, make, username, hardcore,...</td>\n",
       "      <td>[aww, match, background, colour, seemingly, st...</td>\n",
       "      <td>[hey, man, really, try, edit, war, guy, consta...</td>\n",
       "      <td>[make, real, suggestion, improvement, wonder, ...</td>\n",
       "      <td>[sir, hero, chance, remember, page]</td>\n",
       "    </tr>\n",
       "    <tr>\n",
       "      <th>clean_text</th>\n",
       "      <td>explanation edits make username hardcore metal...</td>\n",
       "      <td>aww match background colour seemingly stick th...</td>\n",
       "      <td>hey man really try edit war guy constantly rem...</td>\n",
       "      <td>make real suggestion improvement wonder sectio...</td>\n",
       "      <td>sir hero chance remember page</td>\n",
       "    </tr>\n",
       "  </tbody>\n",
       "</table>\n",
       "</div>"
      ],
      "text/plain": [
       "                                                                 0  \\\n",
       "id                                                0000997932d777bf   \n",
       "comment_text     Explanation\\nWhy the edits made under my usern...   \n",
       "toxic                                                            0   \n",
       "severe_toxic                                                     0   \n",
       "obscene                                                          0   \n",
       "threat                                                           0   \n",
       "insult                                                           0   \n",
       "identity_hate                                                    0   \n",
       "clean_text_list  [explanation, edits, make, username, hardcore,...   \n",
       "clean_text       explanation edits make username hardcore metal...   \n",
       "\n",
       "                                                                 1  \\\n",
       "id                                                000103f0d9cfb60f   \n",
       "comment_text     D'aww! He matches this background colour I'm s...   \n",
       "toxic                                                            0   \n",
       "severe_toxic                                                     0   \n",
       "obscene                                                          0   \n",
       "threat                                                           0   \n",
       "insult                                                           0   \n",
       "identity_hate                                                    0   \n",
       "clean_text_list  [aww, match, background, colour, seemingly, st...   \n",
       "clean_text       aww match background colour seemingly stick th...   \n",
       "\n",
       "                                                                 2  \\\n",
       "id                                                000113f07ec002fd   \n",
       "comment_text     Hey man, I'm really not trying to edit war. It...   \n",
       "toxic                                                            0   \n",
       "severe_toxic                                                     0   \n",
       "obscene                                                          0   \n",
       "threat                                                           0   \n",
       "insult                                                           0   \n",
       "identity_hate                                                    0   \n",
       "clean_text_list  [hey, man, really, try, edit, war, guy, consta...   \n",
       "clean_text       hey man really try edit war guy constantly rem...   \n",
       "\n",
       "                                                                 3  \\\n",
       "id                                                0001b41b1c6bb37e   \n",
       "comment_text     \"\\nMore\\nI can't make any real suggestions on ...   \n",
       "toxic                                                            0   \n",
       "severe_toxic                                                     0   \n",
       "obscene                                                          0   \n",
       "threat                                                           0   \n",
       "insult                                                           0   \n",
       "identity_hate                                                    0   \n",
       "clean_text_list  [make, real, suggestion, improvement, wonder, ...   \n",
       "clean_text       make real suggestion improvement wonder sectio...   \n",
       "\n",
       "                                                                 4  \n",
       "id                                                0001d958c54c6e35  \n",
       "comment_text     You, sir, are my hero. Any chance you remember...  \n",
       "toxic                                                            0  \n",
       "severe_toxic                                                     0  \n",
       "obscene                                                          0  \n",
       "threat                                                           0  \n",
       "insult                                                           0  \n",
       "identity_hate                                                    0  \n",
       "clean_text_list                [sir, hero, chance, remember, page]  \n",
       "clean_text                           sir hero chance remember page  "
      ]
     },
     "execution_count": 65,
     "metadata": {},
     "output_type": "execute_result"
    }
   ],
   "source": [
    "train_clean.head().T"
   ]
  },
  {
   "cell_type": "code",
   "execution_count": 66,
   "metadata": {},
   "outputs": [],
   "source": [
    "impute = np.zeros(300)"
   ]
  },
  {
   "cell_type": "code",
   "execution_count": 87,
   "metadata": {},
   "outputs": [],
   "source": [
    "def sentence_to_tensor(sentence):\n",
    "    g = [ glove.get(w, impute) for w in sentence ]\n",
    "    if len(g)==0:\n",
    "        g = [ impute ]\n",
    "    return torch.FloatTensor(np.asarray(g))"
   ]
  },
  {
   "cell_type": "code",
   "execution_count": 88,
   "metadata": {},
   "outputs": [],
   "source": [
    "# create list of (tensor, label) tuples\n",
    "\n",
    "tensor_list = [ sentence_to_tensor(x) for x in train_clean.clean_text_list ]"
   ]
  },
  {
   "cell_type": "code",
   "execution_count": 89,
   "metadata": {},
   "outputs": [],
   "source": [
    "tensor_labels = [ torch.LongTensor(x) for x in train_clean.toxic ]"
   ]
  },
  {
   "cell_type": "code",
   "execution_count": 102,
   "metadata": {},
   "outputs": [],
   "source": [
    "data_list = list(zip(tensor_list, train_clean.toxic))"
   ]
  },
  {
   "cell_type": "code",
   "execution_count": 97,
   "metadata": {},
   "outputs": [],
   "source": [
    "t = data_list[0][0]"
   ]
  },
  {
   "cell_type": "code",
   "execution_count": 98,
   "metadata": {},
   "outputs": [
    {
     "data": {
      "text/plain": [
       "torch.Size([27, 300])"
      ]
     },
     "execution_count": 98,
     "metadata": {},
     "output_type": "execute_result"
    }
   ],
   "source": [
    "t.shape"
   ]
  },
  {
   "cell_type": "code",
   "execution_count": 101,
   "metadata": {},
   "outputs": [
    {
     "data": {
      "text/plain": [
       "torch.Size([28, 300])"
      ]
     },
     "execution_count": 101,
     "metadata": {},
     "output_type": "execute_result"
    }
   ],
   "source": [
    "pad_tensor(t, 28, 0).shape"
   ]
  },
  {
   "cell_type": "code",
   "execution_count": null,
   "metadata": {},
   "outputs": [],
   "source": []
  },
  {
   "cell_type": "code",
   "execution_count": 59,
   "metadata": {},
   "outputs": [],
   "source": [
    "# these functions allow a dataloader to process inputs of various lengths \n",
    "# and zero pad each batch to max length within that batch\n",
    "\n",
    "# input to dataloader should be a list of tuples (tensor, label)\n",
    "\n",
    "def pad_tensor(vec, pad, dim):\n",
    "    \"\"\"\n",
    "    args:\n",
    "        vec - tensor to pad\n",
    "        pad - the size to pad to\n",
    "        dim - dimension to pad\n",
    "\n",
    "    return:\n",
    "        a new tensor padded to 'pad' in dimension 'dim'\n",
    "    \"\"\"\n",
    "    pad_size = list(vec.shape)\n",
    "    pad_size[dim] = pad - vec.size(dim)\n",
    "    return torch.cat([vec, torch.zeros(*pad_size).type_as(vec)], dim=dim)\n",
    "\n",
    "\n",
    "class PadCollate:\n",
    "    \"\"\"\n",
    "    a variant of collate_fn that pads according to the longest sequence in\n",
    "    a batch of sequences\n",
    "    \"\"\"\n",
    "\n",
    "    def __init__(self, dim=0):\n",
    "        \"\"\"\n",
    "        args:\n",
    "            dim - the dimension to be padded (dimension of time in sequences)\n",
    "        \"\"\"\n",
    "        self.dim = dim\n",
    "\n",
    "    def pad_collate(self, batch):\n",
    "        \"\"\"\n",
    "        args:\n",
    "            batch - list of (tensor, label)\n",
    "\n",
    "        reutrn:\n",
    "            xs - a tensor of all examples in 'batch' after padding\n",
    "            ys - a LongTensor of all labels in batch\n",
    "        \"\"\"\n",
    "        # find longest sequence\n",
    "        max_len = max(map(lambda x: x[0].shape[self.dim], batch))\n",
    "        print(max_len)\n",
    "        \n",
    "        # pad according to max_len\n",
    "        batch = list(map(lambda x: (pad_tensor(x[0], pad=max_len, dim=self.dim), x[1]), batch))\n",
    "        \n",
    "        # stack all\n",
    "        xs = torch.stack(list(map(lambda x: x[0], batch)), dim=0)\n",
    "        ys = torch.LongTensor(list(map(lambda x: x[1], batch)))\n",
    "        return xs, ys\n",
    "\n",
    "    def __call__(self, batch):\n",
    "        return self.pad_collate(batch)"
   ]
  },
  {
   "cell_type": "code",
   "execution_count": 111,
   "metadata": {},
   "outputs": [],
   "source": [
    "train_loader = DataLoader(data_list, batch_size=5, collate_fn=PadCollate(dim=0))"
   ]
  },
  {
   "cell_type": "code",
   "execution_count": 7,
   "metadata": {},
   "outputs": [],
   "source": [
    "# from Shawn1993 on Github\n",
    "\n",
    "class CNN_Text(nn.Module):\n",
    "    \n",
    "    def __init__(self, args):\n",
    "        super(CNN_Text, self).__init__()\n",
    "        self.args = args\n",
    "        \n",
    "       \"\"\" V = args.embed_num      # vocab size ... this vesion tunes vectors (will change and use glove)\n",
    "        D = args.embed_dim      # embedding dimension\n",
    "        C = args.class_num      # outcome classes (e.g. 2 for binary)\n",
    "        Ci = 1                  # input channel is 1, compared to images wich may have 3 (r,g,b)\n",
    "        Co = args.kernel_num    # number of filters per region emsize\n",
    "        Ks = args.kernel_sizes  # list of filter region sizes\n",
    "\"\"\"\n",
    "    \n",
    "        #V = args.embed_num      # vocab size ... this vesion tunes vectors (will change and use glove)\n",
    "        D = 300      # embedding dimension\n",
    "        C = 2      # outcome classes (e.g. 2 for binary)\n",
    "        Ci = 1      # input channel is 1 for text, compared to images wich may have 3 (r,g,b)\n",
    "        Co = 100    # number of filters per region emsize\n",
    "        Ks = [3, 5]  # list of filter region sizes\n",
    "\n",
    "        #self.embed = nn.Embedding(V, D)\n",
    "        # self.convs1 = [nn.Conv2d(Ci, Co, (K, D)) for K in Ks]\n",
    "        self.convs1 = nn.ModuleList([nn.Conv2d(Ci, Co, (K, D)) for K in Ks])  # holds list of modules for each region size\n",
    "        '''\n",
    "        self.conv13 = nn.Conv2d(Ci, Co, (3, D))\n",
    "        self.conv14 = nn.Conv2d(Ci, Co, (4, D))\n",
    "        self.conv15 = nn.Conv2d(Ci, Co, (5, D))\n",
    "        '''\n",
    "        self.dropout = nn.Dropout(.5)\n",
    "        self.fc1 = nn.Linear(len(Ks)*Co, C)\n",
    "\n",
    "    \"\"\"\n",
    "    # is this func even needed?  \n",
    "    def conv_and_pool(self, x, conv):\n",
    "        x = F.relu(conv(x)).squeeze(3)  # (N, Co, W)\n",
    "        x = F.max_pool1d(x, x.size(2)).squeeze(2)\n",
    "        return x\n",
    "    \"\"\"\n",
    "    \n",
    "    def forward(self, x):\n",
    "        x = self.embed(x)  # (N, W, D)  prob remove this for pre-trained glove vectors?\n",
    "        \n",
    "        if self.args.static:\n",
    "            x = Variable(x)\n",
    "\n",
    "        x = x.unsqueeze(1)  # (N, Ci, W, D)\n",
    "\n",
    "        x = [F.relu(conv(x)).squeeze(3) for conv in self.convs1]  # [(N, Co, W), ...]*len(Ks)\n",
    "\n",
    "        x = [F.max_pool1d(i, i.size(2)).squeeze(2) for i in x]  # [(N, Co), ...]*len(Ks)\n",
    "\n",
    "        x = torch.cat(x, 1)\n",
    "\n",
    "        '''\n",
    "        x1 = self.conv_and_pool(x,self.conv13) #(N,Co)\n",
    "        x2 = self.conv_and_pool(x,self.conv14) #(N,Co)\n",
    "        x3 = self.conv_and_pool(x,self.conv15) #(N,Co)\n",
    "        x = torch.cat((x1, x2, x3), 1) # (N,len(Ks)*Co)\n",
    "        '''\n",
    "        x = self.dropout(x)  # (N, len(Ks)*Co)\n",
    "        logit = self.fc1(x)  # (N, C)\n",
    "        return logit\n"
   ]
  },
  {
   "cell_type": "code",
   "execution_count": null,
   "metadata": {},
   "outputs": [],
   "source": []
  }
 ],
 "metadata": {
  "kernelspec": {
   "display_name": "Python 3",
   "language": "python",
   "name": "python3"
  },
  "language_info": {
   "codemirror_mode": {
    "name": "ipython",
    "version": 3
   },
   "file_extension": ".py",
   "mimetype": "text/x-python",
   "name": "python",
   "nbconvert_exporter": "python",
   "pygments_lexer": "ipython3",
   "version": "3.6.4"
  }
 },
 "nbformat": 4,
 "nbformat_minor": 2
}
