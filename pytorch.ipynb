{
 "cells": [
  {
   "cell_type": "markdown",
   "metadata": {},
   "source": [
    "## Test pytorch modeling before moving to scripts"
   ]
  },
  {
   "cell_type": "code",
   "execution_count": 16,
   "metadata": {},
   "outputs": [],
   "source": [
    "import torch \n",
    "import torch.optim as optim\n",
    "import numpy as np\n",
    "from torch.autograd import Variable\n",
    "import torch.nn as nn\n",
    "import torch.nn.functional as F\n",
    "import pandas as pd\n",
    "import seaborn as sns\n",
    "%matplotlib inline\n",
    "import joblib\n",
    "from scipy.sparse import csr_matrix\n",
    "from sklearn.metrics import roc_curve, auc\n",
    "from sklearn.feature_extraction.text import CountVectorizer\n",
    "from sklearn.feature_extraction.text import TfidfTransformer"
   ]
  },
  {
   "cell_type": "code",
   "execution_count": 4,
   "metadata": {},
   "outputs": [],
   "source": [
    "train_clean = joblib.load('../../data/train_clean.pckl')\n",
    "test_clean = joblib.load('../../data/test_clean.pckl')\n",
    "vectorizer = joblib.load('../vectorizer.pckl')\n",
    "splits = joblib.load('../splits.pckl')"
   ]
  },
  {
   "cell_type": "code",
   "execution_count": 7,
   "metadata": {},
   "outputs": [],
   "source": [
    "def get_loader(split):\n",
    "    \n",
    "    idx = [i for i, x in enumerate(splits) if x==0]\n",
    "    \n",
    "    # subset training data and target on idx_list\n",
    "    X = train_clean.loc[idx, 'clean_text'].copy()\n",
    "    y = train_clean.loc[idx, 'toxic'].copy()\n",
    "    \n",
    "    # transform to dense tfidf matrix\n",
    "    X_bow = csr_matrix(vectorizer.transform(X), dtype=np.float32).todense()\n",
    "    \n",
    "    # create tensor dataset\n",
    "    X_tensor = torch.from_numpy(X_bow)\n",
    "    y_tensor = torch.LongTensor([int(x) for x in y])\n",
    "    \n",
    "    split_set = torch.utils.data.TensorDataset(X_tensor, y_tensor)\n",
    "\n",
    "    # return dataloader\n",
    "    return(torch.utils.data.DataLoader(split_set, batch_size=100, shuffle=False, num_workers=2))"
   ]
  },
  {
   "cell_type": "code",
   "execution_count": 55,
   "metadata": {},
   "outputs": [],
   "source": [
    "w = train_clean['toxic'].value_counts(normalize=True).iloc[::-1]\n",
    "C = Variable(torch.FloatTensor([w[1], w[0]])).cuda()"
   ]
  },
  {
   "cell_type": "code",
   "execution_count": 58,
   "metadata": {},
   "outputs": [],
   "source": [
    "class BoWClassifier(nn.Module):  # inheriting from nn.Module!\n",
    "\n",
    "    def __init__(self, num_labels, vocab_size):\n",
    "        super(BoWClassifier, self).__init__()\n",
    "        self.linear1 = nn.Linear(vocab_size, 64)\n",
    "        self.dropout = nn.Dropout()\n",
    "        self.linear2 = nn.Linear(64, num_labels)\n",
    "\n",
    "    def forward(self, x):\n",
    "        x = self.linear1(x)\n",
    "        x = self.dropout(x)\n",
    "        x = self.linear2(x)\n",
    "        return F.log_softmax(x, dim=1)"
   ]
  },
  {
   "cell_type": "code",
   "execution_count": 61,
   "metadata": {},
   "outputs": [
    {
     "name": "stdout",
     "output_type": "stream",
     "text": [
      "[0,     0] loss: 0.006828\n",
      "[0,     1] loss: 0.006585\n",
      "[0,     2] loss: 0.006393\n",
      "[0,     3] loss: 0.006188\n",
      "[0,     4] loss: 0.005974\n",
      "[0,     5] loss: 0.005743\n",
      "[0,     6] loss: 0.005522\n",
      "[0,     7] loss: 0.005296\n",
      "[0,     8] loss: 0.005074\n",
      "[0,     9] loss: 0.004866\n",
      "0  - Test AUC: 0.928058  %\n",
      "[1,     0] loss: 0.004687\n",
      "[1,     1] loss: 0.004515\n",
      "[1,     2] loss: 0.004327\n",
      "[1,     3] loss: 0.004197\n",
      "[1,     4] loss: 0.004042\n",
      "[1,     5] loss: 0.003920\n",
      "[1,     6] loss: 0.003790\n",
      "[1,     7] loss: 0.003681\n",
      "[1,     8] loss: 0.003568\n",
      "[1,     9] loss: 0.003470\n",
      "1  - Test AUC: 0.963215  %\n",
      "[2,     0] loss: 0.003348\n",
      "[2,     1] loss: 0.003266\n",
      "[2,     2] loss: 0.003181\n",
      "[2,     3] loss: 0.003084\n",
      "[2,     4] loss: 0.003032\n",
      "[2,     5] loss: 0.002931\n",
      "[2,     6] loss: 0.002874\n",
      "[2,     7] loss: 0.002793\n",
      "[2,     8] loss: 0.002735\n",
      "[2,     9] loss: 0.002664\n",
      "2  - Test AUC: 0.980748  %\n",
      "[3,     0] loss: 0.002596\n",
      "[3,     1] loss: 0.002554\n",
      "[3,     2] loss: 0.002481\n",
      "[3,     3] loss: 0.002428\n",
      "[3,     4] loss: 0.002384\n",
      "[3,     5] loss: 0.002327\n",
      "[3,     6] loss: 0.002287\n",
      "[3,     7] loss: 0.002247\n",
      "[3,     8] loss: 0.002201\n",
      "[3,     9] loss: 0.002135\n",
      "3  - Test AUC: 0.988905  %\n",
      "[4,     0] loss: 0.002098\n",
      "[4,     1] loss: 0.002060\n",
      "[4,     2] loss: 0.002010\n",
      "[4,     3] loss: 0.001987\n",
      "[4,     4] loss: 0.001940\n",
      "[4,     5] loss: 0.001906\n",
      "[4,     6] loss: 0.001878\n",
      "[4,     7] loss: 0.001847\n",
      "[4,     8] loss: 0.001824\n",
      "[4,     9] loss: 0.001786\n",
      "4  - Test AUC: 0.992655  %\n",
      "[5,     0] loss: 0.001744\n",
      "[5,     1] loss: 0.001728\n",
      "[5,     2] loss: 0.001689\n",
      "[5,     3] loss: 0.001662\n",
      "[5,     4] loss: 0.001633\n",
      "[5,     5] loss: 0.001606\n",
      "[5,     6] loss: 0.001588\n",
      "[5,     7] loss: 0.001553\n",
      "[5,     8] loss: 0.001532\n",
      "[5,     9] loss: 0.001519\n",
      "5  - Test AUC: 0.994726  %\n",
      "[6,     0] loss: 0.001486\n",
      "[6,     1] loss: 0.001463\n",
      "[6,     2] loss: 0.001460\n",
      "[6,     3] loss: 0.001429\n",
      "[6,     4] loss: 0.001410\n",
      "[6,     5] loss: 0.001373\n",
      "[6,     6] loss: 0.001361\n",
      "[6,     7] loss: 0.001349\n",
      "[6,     8] loss: 0.001335\n",
      "[6,     9] loss: 0.001312\n",
      "6  - Test AUC: 0.996094  %\n",
      "[7,     0] loss: 0.001298\n",
      "[7,     1] loss: 0.001275\n",
      "[7,     2] loss: 0.001260\n",
      "[7,     3] loss: 0.001254\n",
      "[7,     4] loss: 0.001213\n",
      "[7,     5] loss: 0.001209\n",
      "[7,     6] loss: 0.001196\n",
      "[7,     7] loss: 0.001185\n",
      "[7,     8] loss: 0.001158\n",
      "[7,     9] loss: 0.001150\n",
      "7  - Test AUC: 0.997107  %\n",
      "[8,     0] loss: 0.001131\n",
      "[8,     1] loss: 0.001125\n",
      "[8,     2] loss: 0.001110\n",
      "[8,     3] loss: 0.001089\n",
      "[8,     4] loss: 0.001073\n",
      "[8,     5] loss: 0.001078\n",
      "[8,     6] loss: 0.001057\n",
      "[8,     7] loss: 0.001037\n",
      "[8,     8] loss: 0.001042\n",
      "[8,     9] loss: 0.001026\n",
      "8  - Test AUC: 0.997755  %\n",
      "[9,     0] loss: 0.001009\n",
      "[9,     1] loss: 0.001002\n",
      "[9,     2] loss: 0.000986\n",
      "[9,     3] loss: 0.000964\n",
      "[9,     4] loss: 0.000979\n",
      "[9,     5] loss: 0.000963\n",
      "[9,     6] loss: 0.000954\n",
      "[9,     7] loss: 0.000943\n",
      "[9,     8] loss: 0.000937\n",
      "[9,     9] loss: 0.000924\n",
      "9  - Test AUC: 0.998217  %\n",
      "[10,     0] loss: 0.000907\n",
      "[10,     1] loss: 0.000892\n",
      "[10,     2] loss: 0.000893\n",
      "[10,     3] loss: 0.000885\n",
      "[10,     4] loss: 0.000874\n",
      "[10,     5] loss: 0.000869\n",
      "[10,     6] loss: 0.000857\n",
      "[10,     7] loss: 0.000850\n",
      "[10,     8] loss: 0.000840\n",
      "[10,     9] loss: 0.000835\n",
      "10  - Test AUC: 0.998543  %\n",
      "[11,     0] loss: 0.000821\n",
      "[11,     1] loss: 0.000810\n",
      "[11,     2] loss: 0.000798\n",
      "[11,     3] loss: 0.000799\n",
      "[11,     4] loss: 0.000794\n",
      "[11,     5] loss: 0.000773\n",
      "[11,     6] loss: 0.000789\n",
      "[11,     7] loss: 0.000773\n",
      "[11,     8] loss: 0.000763\n",
      "[11,     9] loss: 0.000760\n",
      "11  - Test AUC: 0.998783  %\n",
      "[12,     0] loss: 0.000749\n",
      "[12,     1] loss: 0.000747\n",
      "[12,     2] loss: 0.000747\n",
      "[12,     3] loss: 0.000726\n",
      "[12,     4] loss: 0.000726\n",
      "[12,     5] loss: 0.000721\n",
      "[12,     6] loss: 0.000720\n",
      "[12,     7] loss: 0.000713\n",
      "[12,     8] loss: 0.000717\n",
      "[12,     9] loss: 0.000700\n",
      "12  - Test AUC: 0.998990  %\n",
      "[13,     0] loss: 0.000685\n",
      "[13,     1] loss: 0.000693\n",
      "[13,     2] loss: 0.000683\n",
      "[13,     3] loss: 0.000688\n",
      "[13,     4] loss: 0.000671\n",
      "[13,     5] loss: 0.000662\n",
      "[13,     6] loss: 0.000652\n",
      "[13,     7] loss: 0.000666\n",
      "[13,     8] loss: 0.000642\n",
      "[13,     9] loss: 0.000652\n",
      "13  - Test AUC: 0.999177  %\n",
      "[14,     0] loss: 0.000649\n",
      "[14,     1] loss: 0.000633\n",
      "[14,     2] loss: 0.000632\n",
      "[14,     3] loss: 0.000623\n",
      "[14,     4] loss: 0.000620\n",
      "[14,     5] loss: 0.000620\n",
      "[14,     6] loss: 0.000615\n",
      "[14,     7] loss: 0.000606\n",
      "[14,     8] loss: 0.000608\n",
      "[14,     9] loss: 0.000595\n",
      "14  - Test AUC: 0.999268  %\n",
      "[15,     0] loss: 0.000595\n",
      "[15,     1] loss: 0.000597\n",
      "[15,     2] loss: 0.000583\n",
      "[15,     3] loss: 0.000582\n",
      "[15,     4] loss: 0.000581\n",
      "[15,     5] loss: 0.000583\n",
      "[15,     6] loss: 0.000571\n",
      "[15,     7] loss: 0.000566\n",
      "[15,     8] loss: 0.000563\n",
      "[15,     9] loss: 0.000566\n",
      "15  - Test AUC: 0.999409  %\n",
      "[16,     0] loss: 0.000551\n",
      "[16,     1] loss: 0.000555\n",
      "[16,     2] loss: 0.000555\n",
      "[16,     3] loss: 0.000555\n",
      "[16,     4] loss: 0.000540\n",
      "[16,     5] loss: 0.000537\n",
      "[16,     6] loss: 0.000539\n",
      "[16,     7] loss: 0.000538\n",
      "[16,     8] loss: 0.000537\n",
      "[16,     9] loss: 0.000528\n",
      "16  - Test AUC: 0.999438  %\n",
      "[17,     0] loss: 0.000515\n",
      "[17,     1] loss: 0.000521\n",
      "[17,     2] loss: 0.000507\n",
      "[17,     3] loss: 0.000515\n",
      "[17,     4] loss: 0.000506\n",
      "[17,     5] loss: 0.000502\n",
      "[17,     6] loss: 0.000503\n",
      "[17,     7] loss: 0.000505\n",
      "[17,     8] loss: 0.000494\n",
      "[17,     9] loss: 0.000496\n",
      "17  - Test AUC: 0.999518  %\n",
      "[18,     0] loss: 0.000488\n",
      "[18,     1] loss: 0.000488\n",
      "[18,     2] loss: 0.000489\n",
      "[18,     3] loss: 0.000482\n",
      "[18,     4] loss: 0.000475\n",
      "[18,     5] loss: 0.000478\n",
      "[18,     6] loss: 0.000474\n",
      "[18,     7] loss: 0.000472\n",
      "[18,     8] loss: 0.000467\n",
      "[18,     9] loss: 0.000471\n",
      "18  - Test AUC: 0.999582  %\n",
      "[19,     0] loss: 0.000464\n",
      "[19,     1] loss: 0.000460\n",
      "[19,     2] loss: 0.000460\n",
      "[19,     3] loss: 0.000467\n",
      "[19,     4] loss: 0.000460\n",
      "[19,     5] loss: 0.000455\n",
      "[19,     6] loss: 0.000455\n",
      "[19,     7] loss: 0.000448\n",
      "[19,     8] loss: 0.000447\n",
      "[19,     9] loss: 0.000447\n",
      "19  - Test AUC: 0.999669  %\n"
     ]
    },
    {
     "data": {
      "text/plain": [
       "<matplotlib.axes._subplots.AxesSubplot at 0x7fea9f9bf668>"
      ]
     },
     "execution_count": 61,
     "metadata": {},
     "output_type": "execute_result"
    },
    {
     "data": {
      "image/png": "[encoded data removed]",
      "text/plain": [
       "<matplotlib.figure.Figure at 0x7fea9f9bf4e0>"
      ]
     },
     "metadata": {},
     "output_type": "display_data"
    }
   ],
   "source": [
    "model = BoWClassifier(2, 177012)\n",
    "model.cuda()\n",
    "\n",
    "loss_function = nn.NLLLoss(weight=C)\n",
    "optimizer = optim.SGD(model.parameters(), lr=0.01, weight_decay=.001)\n",
    "\n",
    "test_accuracy = []\n",
    "\n",
    "for epoch in range(20):\n",
    "    \n",
    "    early_stopping_epochs = 2\n",
    "    \n",
    "    running_loss = 0.0\n",
    "    running_obs = 0\n",
    "    \n",
    "    for s in range(10):\n",
    "\n",
    "        loader = get_loader(s)\n",
    "\n",
    "        for i, data in enumerate(loader, 0):\n",
    "\n",
    "            inputs, labels = data\n",
    "            inputs, labels = Variable(inputs.cuda()), Variable(labels.cuda())\n",
    "\n",
    "            optimizer.zero_grad()\n",
    "            \n",
    "            log_probs = model(inputs)\n",
    "\n",
    "            loss = loss_function(log_probs, labels)\n",
    "            loss.backward()\n",
    "            optimizer.step()\n",
    "        \n",
    "            running_loss += loss.data[0]\n",
    "            running_obs += len(data[1])\n",
    "        \n",
    "        print('[%d, %5d] loss: %.6f' % (epoch, s, running_loss / running_obs))\n",
    "        running_loss = 0.0\n",
    "        running_obs = 0\n",
    "        \n",
    "    pred = []\n",
    "    act = []\n",
    "    \n",
    "    for s in range(10, 15):\n",
    "\n",
    "        loader = get_loader(s)\n",
    "        \n",
    "        for data in loader:\n",
    "            inputs, labels = data\n",
    "            outputs = model(Variable(inputs).cuda())\n",
    "            pred += list(outputs[:,1].data)\n",
    "            act += list(labels)\n",
    "\n",
    "    fpr, tpr, thresholds = roc_curve(act, pred, pos_label=1)\n",
    "    roc_auc = auc(fpr, tpr)\n",
    "    roc_auc \n",
    "\n",
    "    if epoch% 1 == 0:\n",
    "        print(epoch, ' - Test AUC: %0.6f  %%' % roc_auc)\n",
    "    test_accuracy.append(roc_auc)\n",
    "    \n",
    "    try:\n",
    "        m = test_accuracy.index(max(test_accuracy))\n",
    "        t = len(test_accuracy)\n",
    "        if (t-m) > early_stopping_epochs:\n",
    "            print('Early Stopping ')\n",
    "            break\n",
    "    except:\n",
    "        pass\n",
    "    \n",
    "df = pd.DataFrame(data = {'accuracy' :  test_accuracy, \n",
    "                          'epoch':  range(len(test_accuracy))})\n",
    "\n",
    "sns.pointplot(x='epoch', y='accuracy', data=df)"
   ]
  },
  {
   "cell_type": "code",
   "execution_count": 62,
   "metadata": {},
   "outputs": [
    {
     "data": {
      "text/plain": [
       "__main__.BoWClassifier"
      ]
     },
     "execution_count": 62,
     "metadata": {},
     "output_type": "execute_result"
    }
   ],
   "source": [
    "type(model)"
   ]
  },
  {
   "cell_type": "code",
   "execution_count": 64,
   "metadata": {},
   "outputs": [],
   "source": [
    "torch.save(model.state_dict(), 'model_savee_test')"
   ]
  },
  {
   "cell_type": "code",
   "execution_count": 65,
   "metadata": {},
   "outputs": [],
   "source": [
    "model.load_state_dict(torch.load('model_savee_test'))"
   ]
  },
  {
   "cell_type": "code",
   "execution_count": null,
   "metadata": {},
   "outputs": [],
   "source": []
  },
  {
   "cell_type": "code",
   "execution_count": 53,
   "metadata": {},
   "outputs": [
    {
     "data": {
      "image/png": "[encoded data removed]",
      "text/plain": [
       "<matplotlib.figure.Figure at 0x7fea852dc908>"
      ]
     },
     "metadata": {},
     "output_type": "display_data"
    }
   ],
   "source": [
    "df = pd.DataFrame(data = {'accuracy' :  test_accuracy, \n",
    "                          'epoch':  range(len(test_accuracy))})\n",
    "\n",
    "ax = sns.pointplot(x='epoch', y='accuracy', data=df)\n",
    "ax.set(xlabel='EPOCH', ylabel='Test Accuracy (AUC)', title='TOXIC - Linear Fit')\n",
    "plt.savefig('test_fig')"
   ]
  },
  {
   "cell_type": "code",
   "execution_count": null,
   "metadata": {},
   "outputs": [],
   "source": []
  },
  {
   "cell_type": "code",
   "execution_count": null,
   "metadata": {},
   "outputs": [],
   "source": []
  },
  {
   "cell_type": "code",
   "execution_count": 325,
   "metadata": {},
   "outputs": [
    {
     "data": {
      "text/plain": [
       "<matplotlib.axes._subplots.AxesSubplot at 0x7fd8e5959f28>"
      ]
     },
     "execution_count": 325,
     "metadata": {},
     "output_type": "execute_result"
    },
    {
     "data": {
      "image/png": "[encoded data removed]",
      "text/plain": [
       "<matplotlib.figure.Figure at 0x7fd8e596a6a0>"
      ]
     },
     "metadata": {},
     "output_type": "display_data"
    }
   ],
   "source": [
    "\n",
    "df = pd.DataFrame(data = {'accuracy' :  test_accuracy, \n",
    "                          'epoch':  range(len(test_accuracy))})\n",
    "\n",
    "sns.pointplot(x='epoch', y='accuracy', data=df)"
   ]
  },
  {
   "cell_type": "code",
   "execution_count": 245,
   "metadata": {},
   "outputs": [
    {
     "data": {
      "text/plain": [
       "<matplotlib.axes._subplots.AxesSubplot at 0x7fd8e68dfdd8>"
      ]
     },
     "execution_count": 245,
     "metadata": {},
     "output_type": "execute_result"
    },
    {
     "data": {
      "image/png": "[encoded data removed]",
      "text/plain": [
       "<matplotlib.figure.Figure at 0x7fd8e69d9e10>"
      ]
     },
     "metadata": {},
     "output_type": "display_data"
    }
   ],
   "source": [
    "import pandas as pd\n",
    "import seaborn as sns\n",
    "\n",
    "df = pd.DataFrame(data = {'accuracy' :  test_accuracy, \n",
    "                          'epoch':  range(len(test_accuracy))})\n",
    "\n",
    "sns.pointplot(x='epoch', y='accuracy', data=df)"
   ]
  },
  {
   "cell_type": "code",
   "execution_count": null,
   "metadata": {},
   "outputs": [],
   "source": []
  },
  {
   "cell_type": "code",
   "execution_count": 287,
   "metadata": {},
   "outputs": [],
   "source": [
    "from sklearn import metrics"
   ]
  },
  {
   "cell_type": "code",
   "execution_count": 283,
   "metadata": {
    "collapsed": true
   },
   "outputs": [
    {
     "data": {
      "text/plain": [
       "\n",
       " 0\n",
       " 0\n",
       " 0\n",
       " 0\n",
       " 0\n",
       " 0\n",
       " 0\n",
       " 1\n",
       " 0\n",
       " 0\n",
       " 0\n",
       " 0\n",
       " 0\n",
       " 0\n",
       " 0\n",
       " 0\n",
       " 0\n",
       " 0\n",
       " 0\n",
       " 1\n",
       " 0\n",
       " 0\n",
       " 0\n",
       " 1\n",
       " 0\n",
       " 0\n",
       " 0\n",
       " 0\n",
       " 0\n",
       " 0\n",
       " 0\n",
       " 0\n",
       " 0\n",
       " 0\n",
       " 0\n",
       " 0\n",
       " 0\n",
       " 0\n",
       " 0\n",
       " 0\n",
       " 0\n",
       " 0\n",
       " 0\n",
       " 0\n",
       " 1\n",
       " 0\n",
       " 0\n",
       " 0\n",
       " 0\n",
       " 0\n",
       " 0\n",
       " 0\n",
       " 1\n",
       " 1\n",
       " 0\n",
       " 0\n",
       " 0\n",
       " 0\n",
       " 0\n",
       " 0\n",
       " 0\n",
       " 0\n",
       " 0\n",
       " 0\n",
       " 0\n",
       " 0\n",
       " 0\n",
       " 0\n",
       " 0\n",
       " 0\n",
       " 0\n",
       " 0\n",
       " 0\n",
       " 0\n",
       " 0\n",
       " 0\n",
       " 0\n",
       " 0\n",
       " 0\n",
       " 0\n",
       " 0\n",
       " 0\n",
       " 0\n",
       " 0\n",
       " 0\n",
       " 1\n",
       " 0\n",
       " 0\n",
       " 0\n",
       " 0\n",
       " 0\n",
       " 0\n",
       " 1\n",
       " 1\n",
       " 0\n",
       " 1\n",
       " 0\n",
       " 0\n",
       " 0\n",
       " 0\n",
       "[torch.LongTensor of size 100]"
      ]
     },
     "execution_count": 283,
     "metadata": {},
     "output_type": "execute_result"
    }
   ],
   "source": [
    "labels"
   ]
  },
  {
   "cell_type": "code",
   "execution_count": 315,
   "metadata": {},
   "outputs": [
    {
     "data": {
      "text/plain": [
       "0.9407848386642244"
      ]
     },
     "execution_count": 315,
     "metadata": {},
     "output_type": "execute_result"
    }
   ],
   "source": [
    "pred = []\n",
    "act = []\n",
    "\n",
    "for data in testloader:\n",
    "    inputs, labels = data\n",
    "    outputs = model(Variable(inputs).cuda())\n",
    "    pred += list(outputs[:,1].data)\n",
    "    act += list(labels)\n",
    "    \n",
    "fpr, tpr, thresholds = metrics.roc_curve(act, pred, pos_label=1)\n",
    "roc_auc = metrics.auc(fpr, tpr)\n",
    "roc_auc "
   ]
  },
  {
   "cell_type": "code",
   "execution_count": null,
   "metadata": {},
   "outputs": [],
   "source": []
  },
  {
   "cell_type": "code",
   "execution_count": null,
   "metadata": {},
   "outputs": [],
   "source": []
  },
  {
   "cell_type": "code",
   "execution_count": null,
   "metadata": {},
   "outputs": [],
   "source": [
    "class RNN(nn.Module):\n",
    "    def __init__(self, input_size, hidden_size, output_size):\n",
    "        super(RNN, self).__init__()\n",
    "\n",
    "        self.hidden_size = hidden_size\n",
    "\n",
    "        self.i2h = nn.Linear(input_size + hidden_size, hidden_size)\n",
    "        self.i2o = nn.Linear(input_size + hidden_size, output_size)\n",
    "        self.softmax = nn.LogSoftmax(dim=1)\n",
    "\n",
    "    def forward(self, input, hidden):\n",
    "        combined = torch.cat((input, hidden), 1)\n",
    "        hidden = self.i2h(combined)\n",
    "        output = self.i2o(combined)\n",
    "        output = self.softmax(output)\n",
    "        return output, hidden\n",
    "\n",
    "    def initHidden(self):\n",
    "        return Variable(torch.zeros(1, self.hidden_size))\n",
    "\n",
    "n_hidden = 128\n",
    "rnn = RNN(n_letters, n_hidden, n_categories)"
   ]
  },
  {
   "cell_type": "code",
   "execution_count": null,
   "metadata": {},
   "outputs": [],
   "source": []
  },
  {
   "cell_type": "code",
   "execution_count": null,
   "metadata": {},
   "outputs": [],
   "source": []
  }
 ],
 "metadata": {
  "kernelspec": {
   "display_name": "Python 3",
   "language": "python",
   "name": "python3"
  },
  "language_info": {
   "codemirror_mode": {
    "name": "ipython",
    "version": 3
   },
   "file_extension": ".py",
   "mimetype": "text/x-python",
   "name": "python",
   "nbconvert_exporter": "python",
   "pygments_lexer": "ipython3",
   "version": "3.6.4"
  }
 },
 "nbformat": 4,
 "nbformat_minor": 2
}
